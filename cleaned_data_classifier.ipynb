{
 "cells": [
  {
   "cell_type": "code",
   "execution_count": 10,
   "metadata": {},
   "outputs": [],
   "source": [
    "import pandas as pd\n",
    "import sqlite3\n",
    "import numpy as np\n",
    "from plotnine import *"
   ]
  },
  {
   "cell_type": "markdown",
   "metadata": {},
   "source": [
    "# Connect to Database and Extract Dataset"
   ]
  },
  {
   "cell_type": "code",
   "execution_count": 11,
   "metadata": {},
   "outputs": [
    {
     "data": {
      "text/html": [
       "<div>\n",
       "<style scoped>\n",
       "    .dataframe tbody tr th:only-of-type {\n",
       "        vertical-align: middle;\n",
       "    }\n",
       "\n",
       "    .dataframe tbody tr th {\n",
       "        vertical-align: top;\n",
       "    }\n",
       "\n",
       "    .dataframe thead th {\n",
       "        text-align: right;\n",
       "    }\n",
       "</style>\n",
       "<table border=\"1\" class=\"dataframe\">\n",
       "  <thead>\n",
       "    <tr style=\"text-align: right;\">\n",
       "      <th></th>\n",
       "      <th>smiles</th>\n",
       "      <th>fingerprint</th>\n",
       "      <th>r_avg_IC50</th>\n",
       "      <th>f_avg_IC50</th>\n",
       "    </tr>\n",
       "  </thead>\n",
       "  <tbody>\n",
       "    <tr>\n",
       "      <th>0</th>\n",
       "      <td>N#Cc1cccc(NC(=O)Nc2cncc(N)c2)c1</td>\n",
       "      <td>0000000000000000000000000000000000000000000000...</td>\n",
       "      <td>NaN</td>\n",
       "      <td>54.272964</td>\n",
       "    </tr>\n",
       "    <tr>\n",
       "      <th>1</th>\n",
       "      <td>N#Cc1cccc(NC(=O)Nc2c[nH]c3ncccc23)c1</td>\n",
       "      <td>0000000000000000000000000000000000000000000000...</td>\n",
       "      <td>NaN</td>\n",
       "      <td>63.554925</td>\n",
       "    </tr>\n",
       "    <tr>\n",
       "      <th>2</th>\n",
       "      <td>N#Cc1cccc(NC(=O)Cc2cncc3ccccc23)c1</td>\n",
       "      <td>0000000000000000000000000000000000000000010000...</td>\n",
       "      <td>14.641091</td>\n",
       "      <td>26.680129</td>\n",
       "    </tr>\n",
       "    <tr>\n",
       "      <th>3</th>\n",
       "      <td>O=C(Cc1cncc2ccccc12)Nc1ccccc1</td>\n",
       "      <td>0000000000000000000000000000000000000000010000...</td>\n",
       "      <td>45.077469</td>\n",
       "      <td>57.469670</td>\n",
       "    </tr>\n",
       "    <tr>\n",
       "      <th>4</th>\n",
       "      <td>N#Cc1cc(Cl)cc(NC(=O)Nc2cccnc2)c1</td>\n",
       "      <td>0000000000000000000000000000000000000000000000...</td>\n",
       "      <td>NaN</td>\n",
       "      <td>99.010000</td>\n",
       "    </tr>\n",
       "    <tr>\n",
       "      <th>...</th>\n",
       "      <td>...</td>\n",
       "      <td>...</td>\n",
       "      <td>...</td>\n",
       "      <td>...</td>\n",
       "    </tr>\n",
       "    <tr>\n",
       "      <th>2430</th>\n",
       "      <td>N#CC1(CS(=O)(=O)N2Cc3ccc(Cl)cc3C3(CCN(c4cncc5c...</td>\n",
       "      <td>0000000000000000000000000000000000000000010000...</td>\n",
       "      <td>NaN</td>\n",
       "      <td>7.793945</td>\n",
       "    </tr>\n",
       "    <tr>\n",
       "      <th>2431</th>\n",
       "      <td>CNC(=O)CN1CC2(CCN(c3cncc4cccc(Cl)c34)C2=O)c2cc...</td>\n",
       "      <td>0000000000000000000000000000000000000000010000...</td>\n",
       "      <td>NaN</td>\n",
       "      <td>1.674005</td>\n",
       "    </tr>\n",
       "    <tr>\n",
       "      <th>2432</th>\n",
       "      <td>Cc1cnn(C)c1C(=O)N1Cc2ccc(Cl)cc2C2(CCN(c3cncc4c...</td>\n",
       "      <td>0000000000000000000000000000000000000000010100...</td>\n",
       "      <td>NaN</td>\n",
       "      <td>0.682988</td>\n",
       "    </tr>\n",
       "    <tr>\n",
       "      <th>2433</th>\n",
       "      <td>Cc1cc(C(=O)N2Cc3ccc(Cl)cc3C3(CCN(c4cncc5ccccc4...</td>\n",
       "      <td>0000000000000000000000000000000000000000010000...</td>\n",
       "      <td>NaN</td>\n",
       "      <td>0.463982</td>\n",
       "    </tr>\n",
       "    <tr>\n",
       "      <th>2434</th>\n",
       "      <td>CCn1nccc1C(=O)N1Cc2ccc(Cl)cc2C2(CCN(c3cncc4ccc...</td>\n",
       "      <td>0000000000000000000000000000000000100000010100...</td>\n",
       "      <td>NaN</td>\n",
       "      <td>0.297012</td>\n",
       "    </tr>\n",
       "  </tbody>\n",
       "</table>\n",
       "<p>2435 rows × 4 columns</p>\n",
       "</div>"
      ],
      "text/plain": [
       "                                                 smiles  \\\n",
       "0                       N#Cc1cccc(NC(=O)Nc2cncc(N)c2)c1   \n",
       "1                  N#Cc1cccc(NC(=O)Nc2c[nH]c3ncccc23)c1   \n",
       "2                    N#Cc1cccc(NC(=O)Cc2cncc3ccccc23)c1   \n",
       "3                         O=C(Cc1cncc2ccccc12)Nc1ccccc1   \n",
       "4                      N#Cc1cc(Cl)cc(NC(=O)Nc2cccnc2)c1   \n",
       "...                                                 ...   \n",
       "2430  N#CC1(CS(=O)(=O)N2Cc3ccc(Cl)cc3C3(CCN(c4cncc5c...   \n",
       "2431  CNC(=O)CN1CC2(CCN(c3cncc4cccc(Cl)c34)C2=O)c2cc...   \n",
       "2432  Cc1cnn(C)c1C(=O)N1Cc2ccc(Cl)cc2C2(CCN(c3cncc4c...   \n",
       "2433  Cc1cc(C(=O)N2Cc3ccc(Cl)cc3C3(CCN(c4cncc5ccccc4...   \n",
       "2434  CCn1nccc1C(=O)N1Cc2ccc(Cl)cc2C2(CCN(c3cncc4ccc...   \n",
       "\n",
       "                                            fingerprint  r_avg_IC50  \\\n",
       "0     0000000000000000000000000000000000000000000000...         NaN   \n",
       "1     0000000000000000000000000000000000000000000000...         NaN   \n",
       "2     0000000000000000000000000000000000000000010000...   14.641091   \n",
       "3     0000000000000000000000000000000000000000010000...   45.077469   \n",
       "4     0000000000000000000000000000000000000000000000...         NaN   \n",
       "...                                                 ...         ...   \n",
       "2430  0000000000000000000000000000000000000000010000...         NaN   \n",
       "2431  0000000000000000000000000000000000000000010000...         NaN   \n",
       "2432  0000000000000000000000000000000000000000010100...         NaN   \n",
       "2433  0000000000000000000000000000000000000000010000...         NaN   \n",
       "2434  0000000000000000000000000000000000100000010100...         NaN   \n",
       "\n",
       "      f_avg_IC50  \n",
       "0      54.272964  \n",
       "1      63.554925  \n",
       "2      26.680129  \n",
       "3      57.469670  \n",
       "4      99.010000  \n",
       "...          ...  \n",
       "2430    7.793945  \n",
       "2431    1.674005  \n",
       "2432    0.682988  \n",
       "2433    0.463982  \n",
       "2434    0.297012  \n",
       "\n",
       "[2435 rows x 4 columns]"
      ]
     },
     "execution_count": 11,
     "metadata": {},
     "output_type": "execute_result"
    }
   ],
   "source": [
    "conn = sqlite3.connect(\"sabs_moonshot.db\")\n",
    "data = pd.read_sql_query(\"\"\"\n",
    "SELECT smiles, fingerprint, r_avg_IC50, f_avg_IC50\n",
    "FROM assays\n",
    "INNER JOIN compounds ON compounds.id = assays.compound_id\n",
    "WHERE assays.r_avg_IC50 != \"\" OR assays.f_avg_IC50 != \"\";\n",
    "\"\"\", conn)\n",
    "pd.to_numeric(data[\"r_avg_IC50\"], errors='coerce')\n",
    "pd.to_numeric(data[\"f_avg_IC50\"], errors='coerce')\n",
    "data[\"r_avg_IC50\"] = data[\"r_avg_IC50\"].replace(\"\", np.NaN)\n",
    "data[\"f_avg_IC50\"] = data[\"f_avg_IC50\"].replace(\"\", np.NaN)\n",
    "conn.close()\n",
    "#data = data[data[\"f_avg_IC50\"] < 99]\n",
    "#data = data[data[\"r_avg_IC50\"] < 99]\n",
    "data"
   ]
  },
  {
   "cell_type": "markdown",
   "metadata": {},
   "source": [
    "## Create X, Y Inputs and Outputs numpy arrays"
   ]
  },
  {
   "cell_type": "code",
   "execution_count": 12,
   "metadata": {},
   "outputs": [],
   "source": [
    "X = np.array([[int(c) for c in data[\"fingerprint\"].iloc[i]] for i in range(len(data[\"fingerprint\"]))])\n",
    "Y = -np.log10(np.mean(data[[\"r_avg_IC50\", \"f_avg_IC50\"]], axis=1).to_numpy())"
   ]
  },
  {
   "cell_type": "markdown",
   "metadata": {},
   "source": [
    "# Perform Feature Selection"
   ]
  },
  {
   "cell_type": "markdown",
   "metadata": {},
   "source": [
    "### Remove Low Variance Features"
   ]
  },
  {
   "cell_type": "code",
   "execution_count": 13,
   "metadata": {},
   "outputs": [
    {
     "data": {
      "text/plain": [
       "(2435, 2014)"
      ]
     },
     "execution_count": 13,
     "metadata": {},
     "output_type": "execute_result"
    }
   ],
   "source": [
    "from sklearn.feature_selection import VarianceThreshold\n",
    "sel = VarianceThreshold(threshold = 0)\n",
    "X = sel.fit_transform(X)\n",
    "X.shape"
   ]
  },
  {
   "cell_type": "markdown",
   "metadata": {},
   "source": [
    "### Remove Highly Correlated Features"
   ]
  },
  {
   "cell_type": "code",
   "execution_count": 14,
   "metadata": {},
   "outputs": [
    {
     "data": {
      "text/plain": [
       "(2435, 2006)"
      ]
     },
     "execution_count": 14,
     "metadata": {},
     "output_type": "execute_result"
    }
   ],
   "source": [
    "X = pd.DataFrame(X)\n",
    "corr_matrix = X.corr().abs()\n",
    "upper = corr_matrix.where(np.triu(np.ones(corr_matrix.shape), k=1).astype(np.bool))\n",
    "to_drop = [column for column in upper.columns if any(upper[column] > 0.95)]\n",
    "X.drop(to_drop, axis=1, inplace=True)\n",
    "X = X.to_numpy()\n",
    "X.shape\n"
   ]
  },
  {
   "cell_type": "markdown",
   "metadata": {},
   "source": [
    "### Final Datasets X and Y"
   ]
  },
  {
   "cell_type": "code",
   "execution_count": 15,
   "metadata": {},
   "outputs": [],
   "source": [
    "X, Y # X is features, Y is avg IC50\n",
    "np.save(\"classifier_data/X\", X)\n",
    "np.save(\"classifier_data/Y\", Y)"
   ]
  },
  {
   "cell_type": "code",
   "execution_count": 16,
   "metadata": {},
   "outputs": [
    {
     "name": "stderr",
     "output_type": "stream",
     "text": [
      "/usr/local/anaconda3.7/lib/python3.7/site-packages/plotnine/stats/stat_bin.py:93: PlotnineWarning: 'stat_bin()' using 'bins = 17'. Pick better value with 'binwidth'.\n",
      "  warn(msg.format(params['bins']), PlotnineWarning)\n"
     ]
    },
    {
     "data": {
      "image/png": "[encoded data removed]",
      "text/plain": [
       "<Figure size 640x480 with 1 Axes>"
      ]
     },
     "metadata": {},
     "output_type": "display_data"
    },
    {
     "data": {
      "text/plain": [
       "<ggplot: (8734261276197)>"
      ]
     },
     "execution_count": 16,
     "metadata": {},
     "output_type": "execute_result"
    }
   ],
   "source": [
    "(\n",
    "    ggplot(pd.DataFrame(X, Y)) +\n",
    "    geom_histogram(aes(x='Y'))\n",
    ")"
   ]
  }
 ],
 "metadata": {
  "interpreter": {
   "hash": "37ce5f569002fec7303b2b36d6096f963beffc9d08c085c3b9673cb4e70b2022"
  },
  "kernelspec": {
   "display_name": "Python 3.7.6 64-bit ('base': conda)",
   "language": "python",
   "name": "python3"
  },
  "language_info": {
   "codemirror_mode": {
    "name": "ipython",
    "version": 3
   },
   "file_extension": ".py",
   "mimetype": "text/x-python",
   "name": "python",
   "nbconvert_exporter": "python",
   "pygments_lexer": "ipython3",
   "version": "3.7.6"
  },
  "orig_nbformat": 4
 },
 "nbformat": 4,
 "nbformat_minor": 2
}
