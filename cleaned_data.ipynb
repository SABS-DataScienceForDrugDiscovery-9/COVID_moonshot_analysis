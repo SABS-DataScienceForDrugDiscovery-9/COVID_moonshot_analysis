{
 "cells": [
  {
   "cell_type": "code",
   "execution_count": 47,
   "metadata": {},
   "outputs": [],
   "source": [
    "import pandas as pd\n",
    "import sqlite3\n",
    "import numpy as np\n",
    "from plotnine import *"
   ]
  },
  {
   "cell_type": "markdown",
   "metadata": {},
   "source": [
    "# Connect to Database and Extract Dataset"
   ]
  },
  {
   "cell_type": "code",
   "execution_count": 48,
   "metadata": {},
   "outputs": [
    {
     "data": {
      "text/html": [
       "<div>\n",
       "<style scoped>\n",
       "    .dataframe tbody tr th:only-of-type {\n",
       "        vertical-align: middle;\n",
       "    }\n",
       "\n",
       "    .dataframe tbody tr th {\n",
       "        vertical-align: top;\n",
       "    }\n",
       "\n",
       "    .dataframe thead th {\n",
       "        text-align: right;\n",
       "    }\n",
       "</style>\n",
       "<table border=\"1\" class=\"dataframe\">\n",
       "  <thead>\n",
       "    <tr style=\"text-align: right;\">\n",
       "      <th></th>\n",
       "      <th>smiles</th>\n",
       "      <th>fingerprint</th>\n",
       "      <th>r_avg_IC50</th>\n",
       "      <th>f_avg_IC50</th>\n",
       "    </tr>\n",
       "  </thead>\n",
       "  <tbody>\n",
       "    <tr>\n",
       "      <th>0</th>\n",
       "      <td>N#Cc1cccc(NC(=O)Cc2cncc3ccccc23)c1</td>\n",
       "      <td>0000000000000000000000000000000000000000010000...</td>\n",
       "      <td>14.641091</td>\n",
       "      <td>26.680129</td>\n",
       "    </tr>\n",
       "    <tr>\n",
       "      <th>1</th>\n",
       "      <td>O=C(Cc1cncc2ccccc12)Nc1ccccc1</td>\n",
       "      <td>0000000000000000000000000000000000000000010000...</td>\n",
       "      <td>45.077469</td>\n",
       "      <td>57.469670</td>\n",
       "    </tr>\n",
       "    <tr>\n",
       "      <th>2</th>\n",
       "      <td>Cc1c(N)cncc1NC(=O)Cc1cccc(Cl)c1</td>\n",
       "      <td>0000000000000000000000000000000000000000010000...</td>\n",
       "      <td>8.201698</td>\n",
       "      <td>4.222340</td>\n",
       "    </tr>\n",
       "    <tr>\n",
       "      <th>3</th>\n",
       "      <td>Cc1ccncc1NC(=O)Cc1cccc(Cl)c1</td>\n",
       "      <td>0000000000000000000000000000000000000000010000...</td>\n",
       "      <td>13.895165</td>\n",
       "      <td>24.566619</td>\n",
       "    </tr>\n",
       "    <tr>\n",
       "      <th>4</th>\n",
       "      <td>Cc1ccncc1NC(=O)Nc1cccc(Cl)c1</td>\n",
       "      <td>0000000000000000000000000000000000000000000000...</td>\n",
       "      <td>45.689263</td>\n",
       "      <td>64.413611</td>\n",
       "    </tr>\n",
       "    <tr>\n",
       "      <th>...</th>\n",
       "      <td>...</td>\n",
       "      <td>...</td>\n",
       "      <td>...</td>\n",
       "      <td>...</td>\n",
       "    </tr>\n",
       "    <tr>\n",
       "      <th>656</th>\n",
       "      <td>Cc1ccc(C)c(S(=O)(=O)N2CCN(C(=O)CCl)CC2)c1</td>\n",
       "      <td>0000000000000000000000000000000000000000000000...</td>\n",
       "      <td>1.623369</td>\n",
       "      <td>14.216485</td>\n",
       "    </tr>\n",
       "    <tr>\n",
       "      <th>657</th>\n",
       "      <td>O=C(Nc1cncc2ccccc12)C1CCOc2cc(Cl)c(Cl)cc21</td>\n",
       "      <td>0000000000000000000000000000000000000000000000...</td>\n",
       "      <td>0.309337</td>\n",
       "      <td>0.205428</td>\n",
       "    </tr>\n",
       "    <tr>\n",
       "      <th>658</th>\n",
       "      <td>O=C(CCl)N1CCN(Cc2cccc(Cl)c2)CC1</td>\n",
       "      <td>0000000000000000000000000000000000000000000000...</td>\n",
       "      <td>0.545448</td>\n",
       "      <td>2.536267</td>\n",
       "    </tr>\n",
       "    <tr>\n",
       "      <th>659</th>\n",
       "      <td>O=C(CCl)N1CCN(S(=O)(=O)c2cccc(F)c2)CC1</td>\n",
       "      <td>0000000000000000000000000000000000000000000000...</td>\n",
       "      <td>2.023561</td>\n",
       "      <td>3.666429</td>\n",
       "    </tr>\n",
       "    <tr>\n",
       "      <th>660</th>\n",
       "      <td>O=C(Nc1cncc2ccccc12)C1CNCc2ccc(Cl)cc21</td>\n",
       "      <td>0000000000000000000000000000000000000000000000...</td>\n",
       "      <td>2.795197</td>\n",
       "      <td>1.953394</td>\n",
       "    </tr>\n",
       "  </tbody>\n",
       "</table>\n",
       "<p>424 rows × 4 columns</p>\n",
       "</div>"
      ],
      "text/plain": [
       "                                         smiles  \\\n",
       "0            N#Cc1cccc(NC(=O)Cc2cncc3ccccc23)c1   \n",
       "1                 O=C(Cc1cncc2ccccc12)Nc1ccccc1   \n",
       "2               Cc1c(N)cncc1NC(=O)Cc1cccc(Cl)c1   \n",
       "3                  Cc1ccncc1NC(=O)Cc1cccc(Cl)c1   \n",
       "4                  Cc1ccncc1NC(=O)Nc1cccc(Cl)c1   \n",
       "..                                          ...   \n",
       "656   Cc1ccc(C)c(S(=O)(=O)N2CCN(C(=O)CCl)CC2)c1   \n",
       "657  O=C(Nc1cncc2ccccc12)C1CCOc2cc(Cl)c(Cl)cc21   \n",
       "658             O=C(CCl)N1CCN(Cc2cccc(Cl)c2)CC1   \n",
       "659      O=C(CCl)N1CCN(S(=O)(=O)c2cccc(F)c2)CC1   \n",
       "660      O=C(Nc1cncc2ccccc12)C1CNCc2ccc(Cl)cc21   \n",
       "\n",
       "                                           fingerprint  r_avg_IC50  f_avg_IC50  \n",
       "0    0000000000000000000000000000000000000000010000...   14.641091   26.680129  \n",
       "1    0000000000000000000000000000000000000000010000...   45.077469   57.469670  \n",
       "2    0000000000000000000000000000000000000000010000...    8.201698    4.222340  \n",
       "3    0000000000000000000000000000000000000000010000...   13.895165   24.566619  \n",
       "4    0000000000000000000000000000000000000000000000...   45.689263   64.413611  \n",
       "..                                                 ...         ...         ...  \n",
       "656  0000000000000000000000000000000000000000000000...    1.623369   14.216485  \n",
       "657  0000000000000000000000000000000000000000000000...    0.309337    0.205428  \n",
       "658  0000000000000000000000000000000000000000000000...    0.545448    2.536267  \n",
       "659  0000000000000000000000000000000000000000000000...    2.023561    3.666429  \n",
       "660  0000000000000000000000000000000000000000000000...    2.795197    1.953394  \n",
       "\n",
       "[424 rows x 4 columns]"
      ]
     },
     "execution_count": 48,
     "metadata": {},
     "output_type": "execute_result"
    }
   ],
   "source": [
    "conn = sqlite3.connect(\"sabs_moonshot.db\")\n",
    "data = pd.read_sql_query(\"\"\"\n",
    "SELECT smiles, fingerprint, r_avg_IC50, f_avg_IC50\n",
    "FROM assays\n",
    "INNER JOIN compounds ON compounds.id = assays.compound_id\n",
    "WHERE assays.r_avg_IC50 != \"\" AND assays.f_avg_IC50 != \"\";\n",
    "\"\"\", conn)\n",
    "pd.to_numeric(data[\"r_avg_IC50\"], errors='coerce')\n",
    "pd.to_numeric(data[\"f_avg_IC50\"], errors='coerce')\n",
    "data[\"r_avg_IC50\"] = data[\"r_avg_IC50\"].replace(\"\", np.NaN)\n",
    "data[\"f_avg_IC50\"] = data[\"f_avg_IC50\"].replace(\"\", np.NaN)\n",
    "conn.close()\n",
    "data = data[data[\"f_avg_IC50\"] < 99]\n",
    "data = data[data[\"r_avg_IC50\"] < 99]\n",
    "data"
   ]
  },
  {
   "cell_type": "markdown",
   "metadata": {},
   "source": [
    "## Create X, Y Inputs and Outputs numpy arrays"
   ]
  },
  {
   "cell_type": "code",
   "execution_count": 49,
   "metadata": {},
   "outputs": [],
   "source": [
    "X = np.array([[int(c) for c in data[\"fingerprint\"].iloc[i]] for i in range(len(data[\"fingerprint\"]))])\n",
    "Y = -np.log10(np.mean(data[[\"r_avg_IC50\", \"f_avg_IC50\"]], axis=1).to_numpy())"
   ]
  },
  {
   "cell_type": "markdown",
   "metadata": {},
   "source": [
    "# Perform Feature Selection"
   ]
  },
  {
   "cell_type": "markdown",
   "metadata": {},
   "source": [
    "### Remove Low Variance Features"
   ]
  },
  {
   "cell_type": "code",
   "execution_count": 50,
   "metadata": {},
   "outputs": [
    {
     "data": {
      "text/plain": [
       "(424, 42)"
      ]
     },
     "execution_count": 50,
     "metadata": {},
     "output_type": "execute_result"
    }
   ],
   "source": [
    "from sklearn.feature_selection import VarianceThreshold\n",
    "sel = VarianceThreshold(threshold = 0.8 * (1-0.8)) # Remove features which are same in >80% of data\n",
    "X = sel.fit_transform(X)\n",
    "X.shape"
   ]
  },
  {
   "cell_type": "markdown",
   "metadata": {},
   "source": [
    "### Remove Highly Correlated Features"
   ]
  },
  {
   "cell_type": "code",
   "execution_count": 51,
   "metadata": {},
   "outputs": [
    {
     "data": {
      "text/plain": [
       "(424, 40)"
      ]
     },
     "execution_count": 51,
     "metadata": {},
     "output_type": "execute_result"
    }
   ],
   "source": [
    "X = pd.DataFrame(X)\n",
    "corr_matrix = X.corr().abs()\n",
    "upper = corr_matrix.where(np.triu(np.ones(corr_matrix.shape), k=1).astype(np.bool))\n",
    "to_drop = [column for column in upper.columns if any(upper[column] > 0.95)]\n",
    "X.drop(to_drop, axis=1, inplace=True)\n",
    "X = X.to_numpy()\n",
    "X.shape\n"
   ]
  },
  {
   "cell_type": "markdown",
   "metadata": {},
   "source": [
    "### Final Datasets X and Y"
   ]
  },
  {
   "cell_type": "code",
   "execution_count": 52,
   "metadata": {},
   "outputs": [
    {
     "data": {
      "text/plain": [
       "(array([[1, 0, 1, ..., 0, 0, 0],\n",
       "        [1, 0, 1, ..., 0, 0, 0],\n",
       "        [1, 1, 1, ..., 0, 0, 1],\n",
       "        ...,\n",
       "        [0, 0, 1, ..., 0, 0, 0],\n",
       "        [0, 0, 1, ..., 0, 0, 0],\n",
       "        [0, 1, 0, ..., 0, 1, 0]]),\n",
       " array([-1.31514314e+00, -1.70989355e+00, -7.93232769e-01, -1.28399943e+00,\n",
       "        -1.74076866e+00, -1.29167216e+00, -1.38279685e+00, -1.72089212e+00,\n",
       "        -1.70007183e+00, -5.02224170e-01, -6.12673150e-01, -8.41075825e-01,\n",
       "        -1.04972040e+00, -1.15938083e+00,  1.87514177e-01, -1.49579898e-01,\n",
       "        -1.01376260e+00, -1.16127742e-01, -8.34874212e-02, -3.81107377e-01,\n",
       "        -1.37134984e+00, -1.38825297e+00,  3.04795272e-01, -3.85282583e-01,\n",
       "        -4.60038949e-01, -3.39043564e-01, -3.85282583e-01, -1.04949694e+00,\n",
       "        -3.77669084e-01, -1.22857681e+00, -9.82690350e-01, -1.59430776e+00,\n",
       "        -7.27831304e-02, -3.85282583e-01, -6.69634671e-01, -1.20744586e+00,\n",
       "        -1.40466058e+00, -7.21072325e-02, -1.21785542e+00, -1.41513607e+00,\n",
       "        -8.98721188e-01, -2.49290346e-01, -1.36819580e+00, -1.52281157e-01,\n",
       "        -7.28175117e-01, -7.85765589e-01, -1.27792557e+00, -1.56195337e+00,\n",
       "        -1.65826019e+00, -6.90671872e-01, -1.87762560e-01, -1.50735044e+00,\n",
       "         3.17115720e-01, -5.22583629e-01, -4.83027944e-01, -3.63587768e-01,\n",
       "        -4.70390271e-01, -1.33279037e-01, -4.54081483e-01, -6.77081679e-01,\n",
       "        -3.65021826e-01, -1.42067558e+00, -1.29177943e+00, -1.63138780e+00,\n",
       "        -1.22841719e+00, -1.51108812e+00, -1.37693177e+00, -1.69074538e+00,\n",
       "        -4.99496241e-01, -1.70690912e+00, -8.98721188e-01, -3.65021826e-01,\n",
       "        -6.77081679e-01, -1.33279037e-01, -4.54081483e-01, -4.70390271e-01,\n",
       "        -1.87762560e-01, -5.22583629e-01, -1.05670895e+00, -1.26170194e+00,\n",
       "        -1.78340732e+00, -8.62477543e-01, -1.00433784e+00, -3.57039153e-01,\n",
       "        -1.91705147e+00, -1.64107175e+00, -7.98259190e-01, -3.65021826e-01,\n",
       "        -1.30608422e+00, -1.78340732e+00, -8.59959713e-01, -1.45950824e+00,\n",
       "        -4.41174742e-01, -2.43333259e-02, -1.13860133e+00, -1.74182051e+00,\n",
       "        -1.13432691e+00, -1.53897910e+00, -1.44887411e+00, -1.88441211e+00,\n",
       "        -1.74076866e+00, -1.48248448e+00, -1.34158978e+00, -1.69399246e+00,\n",
       "        -1.27792557e+00, -1.20327553e+00, -2.43333259e-02, -8.20284280e-01,\n",
       "        -3.12357802e-01, -5.72016764e-01, -1.55000628e+00, -8.50949134e-01,\n",
       "        -1.20882028e+00, -1.06080742e+00,  1.27684916e+00, -8.32271579e-01,\n",
       "        -6.96587234e-01, -1.15781948e+00, -1.20452380e+00, -8.49359974e-01,\n",
       "        -1.11788796e+00, -5.54038052e-01,  1.77424249e-01, -1.20584775e-01,\n",
       "        -1.46043295e+00, -5.76792883e-02,  4.94141784e-02, -8.59959713e-01,\n",
       "        -1.67990433e+00, -1.60218371e+00,  1.47027667e-01, -1.24390161e-01,\n",
       "        -5.42263738e-01, -7.06947583e-01, -7.85765589e-01, -1.13860133e+00,\n",
       "        -1.74182051e+00, -3.57039153e-01, -1.57975057e+00, -1.19361204e+00,\n",
       "        -1.10938277e+00, -4.70390271e-01, -8.98721188e-01, -4.54081483e-01,\n",
       "        -1.33279037e-01, -1.05941461e+00, -5.76792883e-02, -1.60414549e+00,\n",
       "        -1.28637114e+00, -9.00289037e-01, -1.74019540e-01,  7.44467251e-01,\n",
       "        -1.51868182e+00,  1.27684916e+00,  1.40323142e-01, -4.94242018e-01,\n",
       "         1.49848405e-02, -1.00433784e+00, -1.77102166e+00, -1.68507417e+00,\n",
       "        -1.67843714e+00, -1.38736859e+00, -1.14153309e+00, -1.05373814e-01,\n",
       "         7.44467251e-01,  2.84607204e-02, -2.81258859e-02, -1.03623754e+00,\n",
       "         7.44467251e-01,  2.07057460e-01,  1.40323142e-01, -1.79601678e+00,\n",
       "        -1.39026524e-01,  4.07022635e-01, -3.79086868e-01, -7.65317891e-01,\n",
       "        -8.20792568e-01, -1.51868182e+00, -8.62477543e-01, -1.36065144e+00,\n",
       "        -1.61574912e+00, -9.68482075e-01, -9.34213876e-01, -1.30229254e+00,\n",
       "        -1.46655941e+00, -1.38682959e+00, -1.35257846e+00, -1.47864891e+00,\n",
       "        -1.54039045e+00, -7.50926529e-01, -1.09151457e+00, -1.45913261e+00,\n",
       "        -1.08316144e+00, -1.64394592e+00, -1.24640398e+00, -1.27979004e+00,\n",
       "        -5.19715182e-01,  3.52494778e-01, -8.07837608e-01, -1.21669783e+00,\n",
       "        -1.27793126e+00,  4.07022635e-01,  1.96134266e-01, -1.79601678e+00,\n",
       "        -5.05405349e-01, -1.02587523e+00, -1.30966946e+00,  3.52494778e-01,\n",
       "        -1.85804442e+00, -1.85804442e+00, -5.63236559e-01, -1.82198714e+00,\n",
       "        -4.94242018e-01, -1.24390161e-01,  1.47027667e-01, -5.42263738e-01,\n",
       "        -7.06947583e-01,  1.54325031e-01, -9.81108330e-01, -1.55045879e+00,\n",
       "        -1.38186357e+00, -1.23017794e+00, -1.62980083e+00, -1.72710866e+00,\n",
       "         6.04940019e-01,  6.68625232e-01,  2.08655337e-02,  1.97397472e-01,\n",
       "        -1.66871688e-01, -5.64924244e-01, -2.32882830e-01, -5.99589493e-01,\n",
       "        -3.16776973e-01, -3.35228734e-01, -4.94294623e-01,  2.21894549e-01,\n",
       "        -5.10606426e-01, -2.55373692e-01,  1.49848405e-02,  3.44507989e-01,\n",
       "        -1.81003185e-01,  2.59127349e-01,  7.28489055e-01,  1.55346309e+00,\n",
       "         5.89492147e-01, -1.17742125e+00,  1.73507983e-01,  3.82182032e-01,\n",
       "        -7.26952939e-01, -1.26535398e+00,  6.49345722e-01, -1.73477703e+00,\n",
       "        -7.53025975e-01, -1.05373814e-01,  1.96134266e-01,  1.30558210e-02,\n",
       "        -5.95089786e-02,  4.23076038e-01, -1.51507821e+00,  7.95719627e-01,\n",
       "         7.27673131e-01,  5.13310817e-01,  3.10176187e-01, -1.82812633e+00,\n",
       "         2.52260231e-01, -1.72710866e+00, -9.22924924e-01, -7.52489587e-01,\n",
       "        -1.33720473e+00, -8.58290523e-01, -8.68584413e-01, -1.95006179e-01,\n",
       "        -1.85804442e+00, -1.69510260e-01,  2.07057460e-01, -3.37816078e-01,\n",
       "        -6.74226883e-01, -6.54272031e-01, -1.95878622e+00, -1.13432691e+00,\n",
       "        -8.02749785e-01, -1.24586483e-01, -2.21981849e-01, -2.48365371e-01,\n",
       "        -6.52627008e-01,  1.03200404e-01,  1.34661605e-01,  2.41572558e-02,\n",
       "        -1.85804442e+00, -1.75934628e+00, -1.79262370e+00, -1.89937042e+00,\n",
       "        -7.04014476e-01, -6.90742100e-01, -8.08975000e-01, -4.49984712e-01,\n",
       "        -5.30956497e-01,  3.52494778e-01, -5.73338173e-01, -6.84229291e-01,\n",
       "         5.13310817e-01,  3.10176187e-01,  2.95352969e-01,  4.88687524e-02,\n",
       "         8.03637951e-01, -4.64899778e-01, -1.85804442e+00, -1.63715220e+00,\n",
       "        -1.96002814e+00, -1.16176914e+00,  8.89368380e-01, -1.51507821e+00,\n",
       "        -2.21981849e-01,  4.23076038e-01, -1.10439329e+00, -8.66956010e-01,\n",
       "        -2.81258859e-02, -5.01615231e-02, -8.34792164e-01, -1.03597543e+00,\n",
       "         2.30886994e-01, -3.75534719e-01, -1.11102077e-01, -6.85876859e-01,\n",
       "        -1.24586483e-01,  4.19800165e-02,  2.74109656e-01, -5.13804408e-01,\n",
       "        -8.59693678e-02, -6.54272031e-01,  4.19800165e-02,  7.95275415e-02,\n",
       "         1.10228880e-01, -1.17518446e-01,  2.95352969e-01,  1.59702597e-03,\n",
       "         5.52824593e-02, -1.24586483e-01, -1.00342818e-01,  3.27954946e-01,\n",
       "        -2.31570061e-02,  2.09061146e-01,  6.04940019e-01,  6.68625232e-01,\n",
       "         2.08655337e-02,  1.97397472e-01, -1.66871688e-01, -5.64924244e-01,\n",
       "        -2.32882830e-01, -5.99589493e-01, -3.16776973e-01, -3.35228734e-01,\n",
       "        -4.94294623e-01,  2.21894549e-01, -5.10606426e-01, -2.55373692e-01,\n",
       "         1.49848405e-02,  3.44507989e-01, -1.81003185e-01,  2.59127349e-01,\n",
       "         7.28489055e-01,  2.49355403e-01,  7.06835521e-01,  7.55989976e-02,\n",
       "         2.55860602e-01,  5.58522959e-02,  2.09061146e-01, -1.67553070e+00,\n",
       "        -6.13666679e-02,  7.27673131e-01, -2.31570061e-02,  6.87022179e-01,\n",
       "         2.74109656e-01,  3.83023078e-01,  5.06131881e-01,  2.30886994e-01,\n",
       "         5.89421595e-01,  5.50161016e-01,  4.58249079e-01, -1.36858897e-02,\n",
       "         3.88163025e-01,  1.65562407e-01,  3.80307930e-01,  2.41572558e-02,\n",
       "         1.34661605e-01, -1.05373814e-01,  5.89421595e-01,  4.99135669e-01,\n",
       "         5.50161016e-01,  4.99135669e-01, -3.40249802e-02,  1.16699418e-01,\n",
       "         1.80710472e-01,  3.80307930e-01, -8.68627803e-03,  3.46856569e-02,\n",
       "         6.76476317e-01,  8.89368380e-01,  4.14485348e-01, -1.81745820e+00,\n",
       "         1.90218210e-01,  1.73824611e-01,  5.32240900e-01,  4.35471072e-01,\n",
       "         6.10935575e-01, -2.03528344e-01,  5.25993580e-01, -5.36272809e-02,\n",
       "        -1.13164005e+00, -1.36040944e+00, -1.42388529e+00, -1.22911619e+00,\n",
       "         4.99135669e-01,  1.90218210e-01, -1.03346208e+00, -1.87762560e-01,\n",
       "        -1.81745820e+00,  4.14485348e-01, -1.91937475e+00, -8.98721188e-01,\n",
       "         5.89421595e-01, -1.87762560e-01, -4.54081483e-01, -3.75534719e-01]))"
      ]
     },
     "execution_count": 52,
     "metadata": {},
     "output_type": "execute_result"
    }
   ],
   "source": [
    "X, Y # X is features, Y is avg IC50\n",
    "np.save(\"random_forest_data/X\", X)\n",
    "np.save(\"random_forest_data/Y\", Y)"
   ]
  },
  {
   "cell_type": "code",
   "execution_count": 53,
   "metadata": {},
   "outputs": [
    {
     "name": "stderr",
     "output_type": "stream",
     "text": [
      "/usr/local/anaconda3.7/lib/python3.7/site-packages/plotnine/stats/stat_bin.py:93: PlotnineWarning: 'stat_bin()' using 'bins = 11'. Pick better value with 'binwidth'.\n",
      "  warn(msg.format(params['bins']), PlotnineWarning)\n"
     ]
    },
    {
     "data": {
      "image/png": "[encoded data removed]",
      "text/plain": [
       "<Figure size 640x480 with 1 Axes>"
      ]
     },
     "metadata": {},
     "output_type": "display_data"
    },
    {
     "data": {
      "text/plain": [
       "<ggplot: (8732470895185)>"
      ]
     },
     "execution_count": 53,
     "metadata": {},
     "output_type": "execute_result"
    }
   ],
   "source": [
    "(\n",
    "    ggplot(pd.DataFrame(X, Y)) +\n",
    "    geom_histogram(aes(x='Y'))\n",
    ")"
   ]
  }
 ],
 "metadata": {
  "interpreter": {
   "hash": "37ce5f569002fec7303b2b36d6096f963beffc9d08c085c3b9673cb4e70b2022"
  },
  "kernelspec": {
   "display_name": "Python 3.7.6 64-bit ('base': conda)",
   "language": "python",
   "name": "python3"
  },
  "language_info": {
   "codemirror_mode": {
    "name": "ipython",
    "version": 3
   },
   "file_extension": ".py",
   "mimetype": "text/x-python",
   "name": "python",
   "nbconvert_exporter": "python",
   "pygments_lexer": "ipython3",
   "version": "3.7.6"
  },
  "orig_nbformat": 4
 },
 "nbformat": 4,
 "nbformat_minor": 2
}
