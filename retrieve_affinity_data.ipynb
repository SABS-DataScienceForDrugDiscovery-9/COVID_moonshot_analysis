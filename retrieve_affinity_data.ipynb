{
 "cells": [
  {
   "cell_type": "markdown",
   "metadata": {},
   "source": [
    "# STEP 1\n",
    "## Data collection\n",
    "## Verify that the SQL database works and we can extract assay information"
   ]
  },
  {
   "cell_type": "code",
   "execution_count": 19,
   "metadata": {},
   "outputs": [],
   "source": [
    "import sqlite3\n",
    "import csv\n",
    "import pandas as pd"
   ]
  },
  {
   "cell_type": "code",
   "execution_count": 3,
   "metadata": {},
   "outputs": [],
   "source": [
    "conn = sqlite3.connect('sabs_moonshot.db')"
   ]
  },
  {
   "cell_type": "code",
   "execution_count": 34,
   "metadata": {},
   "outputs": [
    {
     "name": "stdout",
     "output_type": "stream",
     "text": [
      "                    id                                             smiles  \\\n",
      "0   STE-KUL-d79e3d6a-5  C#CCCCC(=O)N[C@@H](CC)C(=O)N[C@H](C(=O)N[C@@H]...   \n",
      "1   STE-KUL-d79e3d6a-4  C#CCCCC(=O)N[C@@H](CC)C(=O)N[C@H](C(=O)N[C@@H]...   \n",
      "2   STE-KUL-d79e3d6a-2  C#CCCCC(=O)N[C@H](C(=O)N[C@H](CC(C)C)C(=O)NN(C...   \n",
      "3   STE-KUL-d79e3d6a-1  C#CCCCC(=O)N[C@H](C(=O)N[C@H](CC(C)C)C(=O)NN(C...   \n",
      "4   STE-KUL-d79e3d6a-3  C#CCCCC(=O)N[C@H](C(=O)N[C@H](CC(C)C)C(=O)NN(C...   \n",
      "5   PET-UNK-c9c1e0d8-2                 C#Cc1cccc(CC(=O)Nc2cncc3ccccc23)c1   \n",
      "6  RED-RED-10c9212c-31         C/C=C/C=C/C(=O)N1CC=C(c2c[nH]c3ncccc23)CC1   \n",
      "7  RED-RED-10c9212c-23              C1=C(c2c[nH]c3ccccc23)CCN(Cc2ccno2)C1   \n",
      "8   MAT-POS-090737b9-1   C=CC(=O)N(C(=O)C1CCOc2ccc(Cl)cc21)c1cncc2ccccc12   \n",
      "9   MAT-POS-e69ad64a-2    C=CC(=O)N(C(=O)C1COc2ccc(Cl)cc21)c1cncc2ccccc12   \n",
      "\n",
      "  f_avg_IC50  \n",
      "0    5.79829  \n",
      "1    15.1754  \n",
      "2   0.044004  \n",
      "3   0.245582  \n",
      "4  0.0207947  \n",
      "5    9.38335  \n",
      "6       99.5  \n",
      "7       99.5  \n",
      "8   0.217283  \n",
      "9  0.0405494  \n"
     ]
    }
   ],
   "source": [
    "\"\"\"\n",
    "Join assasy and compounds table, and output assay information alongside smiles string\n",
    "\"\"\"\n",
    "\n",
    "df = pd.read_sql_query(\"\"\"\n",
    "SELECT assays.id, compounds.smiles, assays.f_avg_IC50\n",
    "FROM assays\n",
    "    INNER JOIN compounds ON compounds.id = assays.compound_id\n",
    "WHERE compounds.assayed = TRUE ORDER BY smiles;\n",
    "\"\"\",\n",
    "conn)\n",
    "print(df[:10])"
   ]
  },
  {
   "cell_type": "code",
   "execution_count": 36,
   "metadata": {},
   "outputs": [
    {
     "name": "stdout",
     "output_type": "stream",
     "text": [
      "                    id          compound_id r_inhibition_at_20_uM  \\\n",
      "0  RED-RED-10c9212c-31  RED-RED-10c9212c-31                         \n",
      "\n",
      "  r_inhibition_at_50_uM r_avg_IC50 r_curve_IC50 r_max_inhibition_reading  \\\n",
      "0                                          None                            \n",
      "\n",
      "  r_min_inhibition_reading r_hill_slope r_R2  ... f_hill_slope   f_R2  \\\n",
      "0                                             ...        [nan]  [nan]   \n",
      "\n",
      "   relative_solubility_at_20_uM relative_solubility_at_100_uM trypsin_IC50  \\\n",
      "0                                                                            \n",
      "\n",
      "                    id                                      smiles      MW  \\\n",
      "0  RED-RED-10c9212c-31  C/C=C/C=C/C(=O)N1CC=C(c2c[nH]c3ncccc23)CC1  293.15   \n",
      "\n",
      "  NMR_std_ratio assayed  \n",
      "0                     1  \n",
      "\n",
      "[1 rows x 27 columns]\n"
     ]
    }
   ],
   "source": [
    "\"\"\"\n",
    "Lookup all assays for a specific smiles string\n",
    "\"\"\"\n",
    "\n",
    "df = pd.read_sql_query(\"\"\"\n",
    "SELECT *\n",
    "FROM assays\n",
    "    INNER JOIN compounds ON compounds.id = assays.compound_id\n",
    "WHERE compounds.assayed = TRUE AND compounds.smiles = \"C/C=C/C=C/C(=O)N1CC=C(c2c[nH]c3ncccc23)CC1\";\n",
    "\"\"\",\n",
    "conn)\n",
    "print(df[:10])"
   ]
  }
 ],
 "metadata": {
  "interpreter": {
   "hash": "31f2aee4e71d21fbe5cf8b01ff0e069b9275f58929596ceb00d14d90e3e16cd6"
  },
  "kernelspec": {
   "display_name": "Python 3.8.10 64-bit",
   "language": "python",
   "name": "python3"
  },
  "language_info": {
   "codemirror_mode": {
    "name": "ipython",
    "version": 3
   },
   "file_extension": ".py",
   "mimetype": "text/x-python",
   "name": "python",
   "nbconvert_exporter": "python",
   "pygments_lexer": "ipython3",
   "version": "3.7.6"
  },
  "orig_nbformat": 4
 },
 "nbformat": 4,
 "nbformat_minor": 2
}
