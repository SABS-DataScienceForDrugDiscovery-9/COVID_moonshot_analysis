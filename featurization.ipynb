{
 "cells": [
  {
   "cell_type": "markdown",
   "metadata": {},
   "source": [
    "# STEP 2\n",
    "## Data Exploration\n",
    "## Featurization"
   ]
  },
  {
   "cell_type": "code",
   "execution_count": 12,
   "metadata": {},
   "outputs": [],
   "source": [
    "import sqlite3\n",
    "import csv\n",
    "import pandas as pd\n",
    "from rdkit import Chem\n",
    "from rdkit.Chem import Lipinski\n",
    "from rdkit.Chem import Descriptors\n",
    "from rdkit.Chem import rdMolDescriptors\n",
    "from rdkit.Chem import Crippen"
   ]
  },
  {
   "cell_type": "code",
   "execution_count": 13,
   "metadata": {},
   "outputs": [],
   "source": [
    "conn = sqlite3.connect('sabs_moonshot.db')"
   ]
  },
  {
   "cell_type": "markdown",
   "metadata": {},
   "source": [
    "# Extract the compounds with missing descriptors"
   ]
  },
  {
   "cell_type": "code",
   "execution_count": 14,
   "metadata": {},
   "outputs": [
    {
     "name": "stdout",
     "output_type": "stream",
     "text": [
      "                     id MW HBA HBD cLogP  \\\n",
      "0    DAR-DIA-6a508060-1                    \n",
      "1    DAR-DIA-6a508060-2                    \n",
      "2    DAR-DIA-6a508060-3                    \n",
      "3    DAR-DIA-6a508060-4                    \n",
      "4    DAR-DIA-6a508060-5                    \n",
      "5    DAR-DIA-6a508060-7                    \n",
      "6    DAR-DIA-6a508060-8                    \n",
      "7    DAR-DIA-6a508060-9                    \n",
      "8   DAR-DIA-6a508060-10                    \n",
      "9   DAR-DIA-6a508060-11                    \n",
      "10  DAR-DIA-6a508060-12                    \n",
      "11  DAR-DIA-6a508060-13                    \n",
      "12  DAR-DIA-6a508060-14                    \n",
      "13  DAR-DIA-6a508060-15                    \n",
      "14  DAR-DIA-6a508060-16                    \n",
      "15   ALP-UNI-b33a865d-1                    \n",
      "16   ALP-UNI-b33a865d-1                    \n",
      "17   ALP-UNI-b33a865d-1                    \n",
      "18   DAR-DIA-6a508060-3                    \n",
      "19   DAR-DIA-6a508060-4                    \n",
      "20   PRA-UNK-2c426785-1                    \n",
      "21   EDG-MED-0c930815-1                    \n",
      "22   EDG-MED-0c930815-1                    \n",
      "23   EDG-MED-0c930815-1      6   0  3.61   \n",
      "\n",
      "                                               smiles  \n",
      "0              O=C(Cc1cncc2ccccc12)C1CCOc2ccc(Cl)cc21  \n",
      "1              O=C(Oc1cncc2ccccc12)C1CCOc2ccc(Cl)cc21  \n",
      "2           N#Cc1ccc2c(c1)C(C(=O)Nc1cncc3ccccc13)CCO2  \n",
      "3            COc1cc(Cl)cc2c1OCCC2C(=O)Nc1cncc2ccccc12  \n",
      "4   O=C1CC(Cc2cc(Cl)cc3c2OCCC3C(=O)Nc2cncc3ccccc23)N1  \n",
      "5              O=C(NC1N=Nc2ccccc21)C1CCOc2ccc(Cl)cc21  \n",
      "6           O=C(Nc1cncc2ccccc12)C1CCOc2ccc(C3CC3)cc21  \n",
      "7   O=C(Nc1cncc2ccccc12)C1(CCC2CCCCC2)CCOc2ccc(Cl)...  \n",
      "8           CC1(C(=O)Nc2cncc3ccccc23)CCOc2ccc(Cl)cc21  \n",
      "9                 O=C(Nc1cncc2ccccc12)C1CC(C2CC2Cl)C1  \n",
      "10                     Cc1ccncc1NC(=O)C1CC(C2CC2Cl)C1  \n",
      "11  CS(=O)(=O)NCCC1(C(=O)Nc2cncc3ccccc23)CCOc2ccc(...  \n",
      "12             Cc1cc(CN(C)C(=O)C2CCOc3ccc(Cl)cc32)no1  \n",
      "13             Cc1cc(CN(C)C(=O)C2CCOc3ccc(Cl)cc32)on1  \n",
      "14   Cc1cc(CN(C(=O)CC2CC2)C(=O)C2CCOc3ccc(Cl)cc32)no1  \n",
      "15  O=C(Nc1cncc2ccccc12)C1CCN(Cc2cnc[nH]2)c2ccc(Cl...  \n",
      "16  O=C(Nc1cncc2ccccc12)C1CCN(Cc2cnc[nH]2)c2ccc(Cl...  \n",
      "17  O=C(Nc1cncc2ccccc12)C1CCN(Cc2cnc[nH]2)c2ccc(Cl...  \n",
      "18          N#Cc1ccc2c(c1)C(C(=O)Nc1cncc3ccccc13)CCO2  \n",
      "19           COc1cc(Cl)cc2c1OCCC2C(=O)Nc1cncc2ccccc12  \n",
      "20  CC1(C)CC[C@]2(C(=O)O)CC=C3[C@@](C)(CC[C@H]4[C@...  \n",
      "21  N#CC1(CS(=O)(=O)N2Cc3ccc(Cl)cc3C3(C2)N=CN(c2cn...  \n",
      "22  N#CC1(CS(=O)(=O)N2Cc3ccc(Cl)cc3C3(C2)N=CN(c2cn...  \n",
      "23  N#CC1(CS(=O)(=O)N2Cc3ccc(Cl)cc3C3(C2)N=CN(c2cn...  \n"
     ]
    }
   ],
   "source": [
    "df = pd.read_sql_query(\"\"\"\n",
    "SELECT \n",
    "    compounds.id,\n",
    "    compounds.MW,\n",
    "    rdkit_descriptors.HBA,\n",
    "    rdkit_descriptors.HBD, rdkit_descriptors.cLogP,\n",
    "    compounds.smiles\n",
    "FROM rdkit_descriptors \n",
    "INNER JOIN compounds on compounds.id = rdkit_descriptors.compound_id\n",
    "WHERE HBA = \"\" OR HBD = \"\" OR MW = \"\" OR cLogP = \"\" AND assayed = TRUE;\n",
    "\"\"\",\n",
    "conn)\n",
    "print(df)"
   ]
  },
  {
   "cell_type": "markdown",
   "metadata": {},
   "source": [
    "# Using RDKit to compute molecular descriptors and Lipinski's rule violations"
   ]
  },
  {
   "cell_type": "code",
   "execution_count": 35,
   "metadata": {},
   "outputs": [],
   "source": [
    "class Molecule:\n",
    "    \"\"\" A molecule. In particular, either the R1 or R2 group, or the scaffold\n",
    "    and one or two groups.\n",
    "    There are methods which tell you the properties of the molecule and if it\n",
    "    passes the Lipsinki test\n",
    "    \"\"\"\n",
    "\n",
    "    def __init__(self, mol_smiles):\n",
    "        \"\"\"Constructor for Molecule class. Initialises Molecule instance from\n",
    "        smile string.\n",
    "        :param mol_smiles: smile string of molecule\n",
    "        :type mol_smiles: String\n",
    "        \"\"\"\n",
    "        self.__mol_smiles = mol_smiles\n",
    "\n",
    "    # @property\n",
    "    # def get_smile_string(self):\n",
    "    #     \"\"\"Returns molecule's smile string\n",
    "    #     :return: smile string of molecule\n",
    "    #     :rtype: String\n",
    "    #     \"\"\"\n",
    "    #     return self.__mol_smiles\n",
    "\n",
    "    def descriptors(self):\n",
    "        \"\"\"Calculate molecule descriptor metrics as dict:\n",
    "        | mol - smile string\n",
    "        | MW - molecular weight\n",
    "        | logP - logP\n",
    "        | TPSA - topological polar surface area\n",
    "        | HA - heavy atom count\n",
    "        | h_acc - H acceptor count\n",
    "        | h_don - H donator count\n",
    "        | rings - ring count\n",
    "        :return: molecule descriptor metrics\n",
    "        :rtype: dict\n",
    "        \"\"\"\n",
    "        mol = Chem.MolFromSmiles(self.__mol_smiles)\n",
    "        mw = Descriptors.ExactMolWt(mol)\n",
    "        log_p = Crippen.MolLogP(mol)\n",
    "        tpsa = rdMolDescriptors.CalcTPSA(mol)  # topological polar surface area\n",
    "        ha = Lipinski.HeavyAtomCount(mol)  # heavy atom count\n",
    "        h_acceptors = Lipinski.NumHAcceptors(mol)\n",
    "        h_donors = Lipinski.NumHDonors(mol)\n",
    "        rings = Lipinski.RingCount(mol)\n",
    "        desc_dict = {'smiles': self.__mol_smiles, #changed from mol to smiles so consistent with database we downloaded\n",
    "                     'MW': mw,\n",
    "                     'logP': log_p,\n",
    "                     'TPSA': tpsa,\n",
    "                     'HA': ha,\n",
    "                     'h_acc': h_acceptors,\n",
    "                     'h_don': h_donors,\n",
    "                     'rings': rings\n",
    "                     }\n",
    "        return desc_dict\n",
    "\n",
    "    def lipinski(self, desc_dict):\n",
    "        \"\"\"Calculate Lipinski from the descriptor dictionary. Returns the\n",
    "        number of rules broken and whether the molecule passes.\n",
    "        :param desc_dict: molecule descriptor metrics\n",
    "        :type desc_dict: dict\n",
    "        :return: violations\n",
    "        :rtype: dict\n",
    "        \"\"\"\n",
    "        violations = {'MW': desc_dict['MW'] < 500.0,\n",
    "                      'h_acc': desc_dict['h_acc'] <= 10,\n",
    "                      'h_don': desc_dict['h_don'] <= 5,\n",
    "                      'logP': desc_dict['logP'] < 5}\n",
    "        return violations"
   ]
  },
  {
   "cell_type": "markdown",
   "metadata": {},
   "source": [
    "Select smiles strings from database"
   ]
  },
  {
   "cell_type": "code",
   "execution_count": 19,
   "metadata": {},
   "outputs": [
    {
     "name": "stdout",
     "output_type": "stream",
     "text": [
      "                                              smiles\n",
      "0                 N#Cc1ccccc1NC(=O)Cc1c[nH]c2ncccc12\n",
      "1                         N#Cc1ccccc1NC(=O)Cc1cccnc1\n",
      "2          CCNc1ccc(C#N)c(NC(=O)Cc2c[nH]c3ncccc23)c1\n",
      "3                 CS(=O)(=O)Cc1ccc(C(=O)Nc2cccnc2)o1\n",
      "4                 O=C(Nc1cccnc1)c1ccc(N2CCC(O)CC2)o1\n",
      "5                      CCNc1ccc(C#N)cc1CCNS(C)(=O)=O\n",
      "6   CS(=O)(=O)NCCc1c[nH]c2c(CCNS(C)(=O)=O)cc(Cl)cc12\n",
      "7  CCn1cc(CCNS(C)(=O)=O)c2cc(C#N)cc(CCNS(C)(=O)=O...\n",
      "8       CC(=O)NCCc1c[nH]c2c(CCNS(C)(=O)=O)cc(Cl)cc12\n",
      "9     CCn1cc(CCNC(C)=O)c2cc(C#N)cc(CCNS(C)(=O)=O)c21\n"
     ]
    }
   ],
   "source": [
    "df = pd.read_sql_query(\"\"\"\n",
    "SELECT smiles\n",
    "FROM compounds;\n",
    "\"\"\",\n",
    "conn)\n",
    "print(df[:10])"
   ]
  },
  {
   "cell_type": "markdown",
   "metadata": {},
   "source": [
    "# Converting compounds database to pandas dataframe"
   ]
  },
  {
   "cell_type": "code",
   "execution_count": 68,
   "metadata": {},
   "outputs": [
    {
     "name": "stdout",
     "output_type": "stream",
     "text": [
      "                   id                                             smiles  \\\n",
      "0  ANT-DIA-3c79be55-1                 N#Cc1ccccc1NC(=O)Cc1c[nH]c2ncccc12   \n",
      "1  ANT-DIA-3c79be55-2                         N#Cc1ccccc1NC(=O)Cc1cccnc1   \n",
      "2  ANT-DIA-3c79be55-3          CCNc1ccc(C#N)c(NC(=O)Cc2c[nH]c3ncccc23)c1   \n",
      "3  ANT-DIA-3c79be55-4                 CS(=O)(=O)Cc1ccc(C(=O)Nc2cccnc2)o1   \n",
      "4  ANT-DIA-3c79be55-5                 O=C(Nc1cccnc1)c1ccc(N2CCC(O)CC2)o1   \n",
      "5  ROB-UNI-b2e39629-1                      CCNc1ccc(C#N)cc1CCNS(C)(=O)=O   \n",
      "6  ROB-UNI-b2e39629-2   CS(=O)(=O)NCCc1c[nH]c2c(CCNS(C)(=O)=O)cc(Cl)cc12   \n",
      "7  ROB-UNI-b2e39629-3  CCn1cc(CCNS(C)(=O)=O)c2cc(C#N)cc(CCNS(C)(=O)=O...   \n",
      "8  ROB-UNI-b2e39629-4       CC(=O)NCCc1c[nH]c2c(CCNS(C)(=O)=O)cc(Cl)cc12   \n",
      "9  ROB-UNI-b2e39629-5     CCn1cc(CCNC(C)=O)c2cc(C#N)cc(CCNS(C)(=O)=O)c21   \n",
      "\n",
      "        MW NMR_std_ratio  assayed  \n",
      "0  276.299                      0  \n",
      "1  237.262                      0  \n",
      "2  319.368                      0  \n",
      "3  280.305                      0  \n",
      "4  287.319                      0  \n",
      "5  267.354                      0  \n",
      "6  393.918                      0  \n",
      "7  412.537                      0  \n",
      "8  357.863                      0  \n",
      "9  376.482                      0  \n"
     ]
    }
   ],
   "source": [
    "df = pd.read_sql_query(\"\"\"\n",
    "SELECT *\n",
    "FROM compounds;\n",
    "\"\"\",\n",
    "conn)\n",
    "print(df[:10])"
   ]
  },
  {
   "cell_type": "code",
   "execution_count": 38,
   "metadata": {},
   "outputs": [],
   "source": [
    "\n",
    "# new_df=pd.DataFrame()\n",
    "# descriptors={'a': 65, 'b': 66}\n",
    "# new_df=new_df.append(descriptors, ignore_index=True)\n",
    "# print(new_df)"
   ]
  },
  {
   "cell_type": "code",
   "execution_count": 37,
   "metadata": {},
   "outputs": [],
   "source": [
    "# for i in range(len(df)):\n",
    "#     cur_smile=df.iloc[i]['smiles']\n",
    "#     print(cur_smile)\n",
    "#     cur_mol=Molecule(cur_smile)\n",
    "#     cur_mol.descriptors"
   ]
  },
  {
   "cell_type": "markdown",
   "metadata": {},
   "source": [
    "# Creating dataframe with smile and molecular descriptors"
   ]
  },
  {
   "cell_type": "code",
   "execution_count": 41,
   "metadata": {},
   "outputs": [
    {
     "name": "stdout",
     "output_type": "stream",
     "text": [
      "     HA          MW   TPSA  h_acc  h_don     logP  rings  \\\n",
      "0  21.0  276.101111  81.57    3.0    2.0  2.61578    3.0   \n",
      "1  18.0  237.090212  65.78    3.0    1.0  2.13448    2.0   \n",
      "2  24.0  319.143310  93.60    4.0    3.0  3.04758    3.0   \n",
      "3  19.0  280.051778  89.27    5.0    1.0  1.47150    2.0   \n",
      "\n",
      "                                      smiles  \n",
      "0         N#Cc1ccccc1NC(=O)Cc1c[nH]c2ncccc12  \n",
      "1                 N#Cc1ccccc1NC(=O)Cc1cccnc1  \n",
      "2  CCNc1ccc(C#N)c(NC(=O)Cc2c[nH]c3ncccc23)c1  \n",
      "3         CS(=O)(=O)Cc1ccc(C(=O)Nc2cccnc2)o1  \n"
     ]
    }
   ],
   "source": [
    "new_df=pd.DataFrame()\n",
    "for i in range(4): #change to range(len(df))\n",
    "    cur_smile=df.iloc[i]['smiles']\n",
    "    # print(cur_smile)\n",
    "    cur_mol=Molecule(cur_smile)\n",
    "    descriptors=cur_mol.descriptors()\n",
    "    # print(descriptors)\n",
    "    new_df=new_df.append(descriptors, ignore_index=True)\n",
    "\n",
    "print(new_df)"
   ]
  },
  {
   "cell_type": "markdown",
   "metadata": {},
   "source": [
    "# Creating dataframe with molecular descriptors and finding the Lipinski's rule of five violations for each compound"
   ]
  },
  {
   "cell_type": "code",
   "execution_count": 60,
   "metadata": {},
   "outputs": [
    {
     "name": "stdout",
     "output_type": "stream",
     "text": [
      "{'MW': True, 'h_acc': True, 'h_don': True, 'logP': True}\n",
      "{'MW': True, 'h_acc': True, 'h_don': True, 'logP': True}\n",
      "     HA          MW   TPSA  h_acc  h_don     logP  rings  \\\n",
      "0  21.0  276.101111  81.57    3.0    2.0  2.61578    3.0   \n",
      "1   NaN    1.000000    NaN    1.0    1.0  1.00000    NaN   \n",
      "2  18.0  237.090212  65.78    3.0    1.0  2.13448    2.0   \n",
      "3   NaN    1.000000    NaN    1.0    1.0  1.00000    NaN   \n",
      "\n",
      "                               smiles  \n",
      "0  N#Cc1ccccc1NC(=O)Cc1c[nH]c2ncccc12  \n",
      "1                                 NaN  \n",
      "2          N#Cc1ccccc1NC(=O)Cc1cccnc1  \n",
      "3                                 NaN  \n"
     ]
    }
   ],
   "source": [
    "new_df=pd.DataFrame()\n",
    "for i in range(2): #change to range(len(df))\n",
    "    cur_smile=df.iloc[i]['smiles']\n",
    "    cur_mol=Molecule(cur_smile)\n",
    "    descriptors=cur_mol.descriptors()\n",
    "    lipinski=cur_mol.lipinski(descriptors)\n",
    "    print(lipinski)\n",
    "    new_df=new_df.append(descriptors, ignore_index=True)\n",
    "    \n",
    "    new_df=new_df.append(lipinski, ignore_index=True)\n",
    "\n",
    "print(new_df)"
   ]
  },
  {
   "cell_type": "markdown",
   "metadata": {},
   "source": [
    "# Trying to discard compounds that fail Lipinski's rule of 5"
   ]
  },
  {
   "cell_type": "code",
   "execution_count": 66,
   "metadata": {},
   "outputs": [],
   "source": [
    "lipinski_list = ['MW', 'logP', 'h_acc', 'h_don']\n",
    "    # r_group_1_id = request.args.get('r1')\n",
    "    # r_group_2_id = request.args.get('r2')\n",
    "    # molecule_key = tuple2str((r_group_1_id, r_group_2_id))\n",
    "    # drug_mol = FinalMolecule(r_group_1_id, r_group_2_id)\n",
    "    # drug_lipinski = drug_mol.lipinski(drug_mol.descriptors())\n",
    "    # lipinski_dict = {cur_mol: lipinski}\n",
    "for label in lipinski_list:\n",
    "    if \"False\" not in lipinski:\n",
    "        pass\n",
    "    # else:\n",
    "    #     # delete smiles/compound row"
   ]
  },
  {
   "cell_type": "markdown",
   "metadata": {},
   "source": [
    "# Trying to discard compounds that violate more than one of Lipinski's rule of 5"
   ]
  },
  {
   "cell_type": "code",
   "execution_count": 69,
   "metadata": {},
   "outputs": [],
   "source": [
    "\n",
    "# for label in lipinski_list:\n",
    "#     if \"False\" appears twice  in lipinski:\n",
    "#         #delete it\n",
    "#     # else:\n",
    "#         pass"
   ]
  }
 ],
 "metadata": {
  "interpreter": {
   "hash": "37ce5f569002fec7303b2b36d6096f963beffc9d08c085c3b9673cb4e70b2022"
  },
  "kernelspec": {
   "display_name": "Python 3.7.6 64-bit ('base': conda)",
   "language": "python",
   "name": "python3"
  },
  "language_info": {
   "codemirror_mode": {
    "name": "ipython",
    "version": 3
   },
   "file_extension": ".py",
   "mimetype": "text/x-python",
   "name": "python",
   "nbconvert_exporter": "python",
   "pygments_lexer": "ipython3",
   "version": "3.7.6"
  },
  "orig_nbformat": 4
 },
 "nbformat": 4,
 "nbformat_minor": 2
}
