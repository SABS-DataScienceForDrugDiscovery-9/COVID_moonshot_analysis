{
 "cells": [
  {
   "cell_type": "code",
   "execution_count": 124,
   "metadata": {},
   "outputs": [],
   "source": [
    "import sqlite3\n",
    "import csv\n",
    "import pandas as pd\n",
    "from rdkit import Chem\n",
    "from rdkit.Chem import Lipinski\n",
    "from rdkit.Chem import Descriptors\n",
    "from rdkit.Chem import rdMolDescriptors\n",
    "from rdkit.Chem import Crippen\n",
    "import numpy as np"
   ]
  },
  {
   "cell_type": "code",
   "execution_count": 125,
   "metadata": {},
   "outputs": [],
   "source": [
    "conn = sqlite3.connect('sabs_moonshot.db')"
   ]
  },
  {
   "cell_type": "markdown",
   "metadata": {},
   "source": [
    "# Extract the compounds with missing descriptors"
   ]
  },
  {
   "cell_type": "code",
   "execution_count": 126,
   "metadata": {},
   "outputs": [
    {
     "name": "stdout",
     "output_type": "stream",
     "text": [
      "                     id MW HBA HBD cLogP  \\\n",
      "0    DAR-DIA-6a508060-1                    \n",
      "1    DAR-DIA-6a508060-2                    \n",
      "2    DAR-DIA-6a508060-3                    \n",
      "3    DAR-DIA-6a508060-4                    \n",
      "4    DAR-DIA-6a508060-5                    \n",
      "5    DAR-DIA-6a508060-7                    \n",
      "6    DAR-DIA-6a508060-8                    \n",
      "7    DAR-DIA-6a508060-9                    \n",
      "8   DAR-DIA-6a508060-10                    \n",
      "9   DAR-DIA-6a508060-11                    \n",
      "10  DAR-DIA-6a508060-12                    \n",
      "11  DAR-DIA-6a508060-13                    \n",
      "12  DAR-DIA-6a508060-14                    \n",
      "13  DAR-DIA-6a508060-15                    \n",
      "14  DAR-DIA-6a508060-16                    \n",
      "15   ALP-UNI-b33a865d-1                    \n",
      "16   ALP-UNI-b33a865d-1                    \n",
      "17   ALP-UNI-b33a865d-1                    \n",
      "18   DAR-DIA-6a508060-3                    \n",
      "19   DAR-DIA-6a508060-4                    \n",
      "20   PRA-UNK-2c426785-1                    \n",
      "21   EDG-MED-0c930815-1                    \n",
      "22   EDG-MED-0c930815-1                    \n",
      "23   EDG-MED-0c930815-1      6   0  3.61   \n",
      "\n",
      "                                               smiles  \n",
      "0              O=C(Cc1cncc2ccccc12)C1CCOc2ccc(Cl)cc21  \n",
      "1              O=C(Oc1cncc2ccccc12)C1CCOc2ccc(Cl)cc21  \n",
      "2           N#Cc1ccc2c(c1)C(C(=O)Nc1cncc3ccccc13)CCO2  \n",
      "3            COc1cc(Cl)cc2c1OCCC2C(=O)Nc1cncc2ccccc12  \n",
      "4   O=C1CC(Cc2cc(Cl)cc3c2OCCC3C(=O)Nc2cncc3ccccc23)N1  \n",
      "5              O=C(NC1N=Nc2ccccc21)C1CCOc2ccc(Cl)cc21  \n",
      "6           O=C(Nc1cncc2ccccc12)C1CCOc2ccc(C3CC3)cc21  \n",
      "7   O=C(Nc1cncc2ccccc12)C1(CCC2CCCCC2)CCOc2ccc(Cl)...  \n",
      "8           CC1(C(=O)Nc2cncc3ccccc23)CCOc2ccc(Cl)cc21  \n",
      "9                 O=C(Nc1cncc2ccccc12)C1CC(C2CC2Cl)C1  \n",
      "10                     Cc1ccncc1NC(=O)C1CC(C2CC2Cl)C1  \n",
      "11  CS(=O)(=O)NCCC1(C(=O)Nc2cncc3ccccc23)CCOc2ccc(...  \n",
      "12             Cc1cc(CN(C)C(=O)C2CCOc3ccc(Cl)cc32)no1  \n",
      "13             Cc1cc(CN(C)C(=O)C2CCOc3ccc(Cl)cc32)on1  \n",
      "14   Cc1cc(CN(C(=O)CC2CC2)C(=O)C2CCOc3ccc(Cl)cc32)no1  \n",
      "15  O=C(Nc1cncc2ccccc12)C1CCN(Cc2cnc[nH]2)c2ccc(Cl...  \n",
      "16  O=C(Nc1cncc2ccccc12)C1CCN(Cc2cnc[nH]2)c2ccc(Cl...  \n",
      "17  O=C(Nc1cncc2ccccc12)C1CCN(Cc2cnc[nH]2)c2ccc(Cl...  \n",
      "18          N#Cc1ccc2c(c1)C(C(=O)Nc1cncc3ccccc13)CCO2  \n",
      "19           COc1cc(Cl)cc2c1OCCC2C(=O)Nc1cncc2ccccc12  \n",
      "20  CC1(C)CC[C@]2(C(=O)O)CC=C3[C@@](C)(CC[C@H]4[C@...  \n",
      "21  N#CC1(CS(=O)(=O)N2Cc3ccc(Cl)cc3C3(C2)N=CN(c2cn...  \n",
      "22  N#CC1(CS(=O)(=O)N2Cc3ccc(Cl)cc3C3(C2)N=CN(c2cn...  \n",
      "23  N#CC1(CS(=O)(=O)N2Cc3ccc(Cl)cc3C3(C2)N=CN(c2cn...  \n"
     ]
    }
   ],
   "source": [
    "df = pd.read_sql_query(\"\"\"\n",
    "SELECT \n",
    "    compounds.id,\n",
    "    compounds.MW,\n",
    "    rdkit_descriptors.HBA,\n",
    "    rdkit_descriptors.HBD, rdkit_descriptors.cLogP,\n",
    "    compounds.smiles\n",
    "FROM rdkit_descriptors \n",
    "INNER JOIN compounds on compounds.id = rdkit_descriptors.compound_id\n",
    "WHERE HBA = \"\" OR HBD = \"\" OR MW = \"\" OR cLogP = \"\" AND assayed = TRUE;\n",
    "\"\"\",\n",
    "conn)\n",
    "print(df)"
   ]
  },
  {
   "cell_type": "markdown",
   "metadata": {},
   "source": [
    "# Using RDKit to compute molecular descriptors and Lipinski's rule violations"
   ]
  },
  {
   "cell_type": "code",
   "execution_count": 127,
   "metadata": {},
   "outputs": [],
   "source": [
    "class Molecule:\n",
    "    \"\"\" A molecule. In particular, either the R1 or R2 group, or the scaffold\n",
    "    and one or two groups.\n",
    "    There are methods which tell you the properties of the molecule and if it\n",
    "    passes the Lipsinki test\n",
    "    \"\"\"\n",
    "\n",
    "    def __init__(self, mol_smiles):\n",
    "        \"\"\"Constructor for Molecule class. Initialises Molecule instance from\n",
    "        smile string.\n",
    "        :param mol_smiles: smile string of molecule\n",
    "        :type mol_smiles: String\n",
    "        \"\"\"\n",
    "        self.__mol_smiles = mol_smiles\n",
    "\n",
    "    # @property\n",
    "    # def get_smile_string(self):\n",
    "    #     \"\"\"Returns molecule's smile string\n",
    "    #     :return: smile string of molecule\n",
    "    #     :rtype: String\n",
    "    #     \"\"\"\n",
    "    #     return self.__mol_smiles\n",
    "\n",
    "    def descriptors(self):\n",
    "        \"\"\"Calculate molecule descriptor metrics as dict:\n",
    "        | mol - smile string\n",
    "        | MW - molecular weight\n",
    "        | logP - logP\n",
    "        | TPSA - topological polar surface area\n",
    "        | HA - heavy atom count\n",
    "        | h_acc - H acceptor count\n",
    "        | h_don - H donator count\n",
    "        | rings - ring count\n",
    "        :return: molecule descriptor metrics\n",
    "        :rtype: dict\n",
    "        \"\"\"\n",
    "        mol = Chem.MolFromSmiles(self.__mol_smiles)\n",
    "        mw = Descriptors.ExactMolWt(mol)\n",
    "        log_p = Crippen.MolLogP(mol)\n",
    "        tpsa = rdMolDescriptors.CalcTPSA(mol)  # topological polar surface area\n",
    "        ha = Lipinski.HeavyAtomCount(mol)  # heavy atom count\n",
    "        h_acceptors = Lipinski.NumHAcceptors(mol)\n",
    "        h_donors = Lipinski.NumHDonors(mol)\n",
    "        rings = Lipinski.RingCount(mol)\n",
    "        molar_refractivity=Chem.Crippen.MolMR(mol)\n",
    "        rotatable_bonds= Descriptors.NumRotatableBonds(mol)\n",
    "        desc_dict = {'smiles': self.__mol_smiles, #changed from mol to smiles so consistent with database we downloaded\n",
    "                     'MW': mw,\n",
    "                     'logP': log_p,\n",
    "                     'TPSA': tpsa,\n",
    "                     'HA': ha,\n",
    "                     'h_acc': h_acceptors,\n",
    "                     'h_don': h_donors,\n",
    "                     'rings': rings,\n",
    "                     'MR': molar_refractivity, \n",
    "                     'Rot_bonds': rotatable_bonds\n",
    "                     }\n",
    "        return desc_dict\n",
    "\n",
    "    def lipinski(self, desc_dict):\n",
    "        \"\"\"Calculate Lipinski from the descriptor dictionary. Returns the\n",
    "        number of rules broken and whether the molecule passes.\n",
    "        :param desc_dict: molecule descriptor metrics\n",
    "        :type desc_dict: dict\n",
    "        :return: violations\n",
    "        :rtype: dict\n",
    "        \"\"\"\n",
    "        violations = {'MW': desc_dict['MW'] < 500.0,\n",
    "                      'h_acc': desc_dict['h_acc'] <= 10,\n",
    "                      'h_don': desc_dict['h_don'] <= 5,\n",
    "                      'logP': desc_dict['logP'] < 5}\n",
    "        return violations"
   ]
  },
  {
   "cell_type": "markdown",
   "metadata": {},
   "source": [
    "Select smiles strings from database"
   ]
  },
  {
   "cell_type": "code",
   "execution_count": 128,
   "metadata": {},
   "outputs": [
    {
     "data": {
      "text/html": [
       "<div>\n",
       "<style scoped>\n",
       "    .dataframe tbody tr th:only-of-type {\n",
       "        vertical-align: middle;\n",
       "    }\n",
       "\n",
       "    .dataframe tbody tr th {\n",
       "        vertical-align: top;\n",
       "    }\n",
       "\n",
       "    .dataframe thead th {\n",
       "        text-align: right;\n",
       "    }\n",
       "</style>\n",
       "<table border=\"1\" class=\"dataframe\">\n",
       "  <thead>\n",
       "    <tr style=\"text-align: right;\">\n",
       "      <th></th>\n",
       "      <th>id</th>\n",
       "      <th>smiles</th>\n",
       "    </tr>\n",
       "  </thead>\n",
       "  <tbody>\n",
       "    <tr>\n",
       "      <th>0</th>\n",
       "      <td>DAR-DIA-23aa0b97-19</td>\n",
       "      <td>N#Cc1cccc(NC(=O)Cc2cncc3ccccc23)c1</td>\n",
       "    </tr>\n",
       "    <tr>\n",
       "      <th>1</th>\n",
       "      <td>DAR-DIA-23aa0b97-20</td>\n",
       "      <td>O=C(Cc1cncc2ccccc12)Nc1ccccc1</td>\n",
       "    </tr>\n",
       "    <tr>\n",
       "      <th>2</th>\n",
       "      <td>TRY-UNI-714a760b-3</td>\n",
       "      <td>Cc1c(N)cncc1NC(=O)Cc1cccc(Cl)c1</td>\n",
       "    </tr>\n",
       "    <tr>\n",
       "      <th>3</th>\n",
       "      <td>TRY-UNI-714a760b-6</td>\n",
       "      <td>Cc1ccncc1NC(=O)Cc1cccc(Cl)c1</td>\n",
       "    </tr>\n",
       "    <tr>\n",
       "      <th>4</th>\n",
       "      <td>TRY-UNI-714a760b-12</td>\n",
       "      <td>Cc1ccncc1NC(=O)Nc1cccc(Cl)c1</td>\n",
       "    </tr>\n",
       "    <tr>\n",
       "      <th>...</th>\n",
       "      <td>...</td>\n",
       "      <td>...</td>\n",
       "    </tr>\n",
       "    <tr>\n",
       "      <th>656</th>\n",
       "      <td>WAR-XCH-79d12f6e-6</td>\n",
       "      <td>Cc1ccc(C)c(S(=O)(=O)N2CCN(C(=O)CCl)CC2)c1</td>\n",
       "    </tr>\n",
       "    <tr>\n",
       "      <th>657</th>\n",
       "      <td>ALP-POS-869ac754-1</td>\n",
       "      <td>O=C(Nc1cncc2ccccc12)C1CCOc2cc(Cl)c(Cl)cc21</td>\n",
       "    </tr>\n",
       "    <tr>\n",
       "      <th>658</th>\n",
       "      <td>MED-COV-4280ac29-15</td>\n",
       "      <td>O=C(CCl)N1CCN(Cc2cccc(Cl)c2)CC1</td>\n",
       "    </tr>\n",
       "    <tr>\n",
       "      <th>659</th>\n",
       "      <td>LON-WEI-8f408cad-4</td>\n",
       "      <td>O=C(CCl)N1CCN(S(=O)(=O)c2cccc(F)c2)CC1</td>\n",
       "    </tr>\n",
       "    <tr>\n",
       "      <th>660</th>\n",
       "      <td>BEN-DND-f2e727cd-5</td>\n",
       "      <td>O=C(Nc1cncc2ccccc12)C1CNCc2ccc(Cl)cc21</td>\n",
       "    </tr>\n",
       "  </tbody>\n",
       "</table>\n",
       "<p>661 rows × 2 columns</p>\n",
       "</div>"
      ],
      "text/plain": [
       "                      id                                      smiles\n",
       "0    DAR-DIA-23aa0b97-19          N#Cc1cccc(NC(=O)Cc2cncc3ccccc23)c1\n",
       "1    DAR-DIA-23aa0b97-20               O=C(Cc1cncc2ccccc12)Nc1ccccc1\n",
       "2     TRY-UNI-714a760b-3             Cc1c(N)cncc1NC(=O)Cc1cccc(Cl)c1\n",
       "3     TRY-UNI-714a760b-6                Cc1ccncc1NC(=O)Cc1cccc(Cl)c1\n",
       "4    TRY-UNI-714a760b-12                Cc1ccncc1NC(=O)Nc1cccc(Cl)c1\n",
       "..                   ...                                         ...\n",
       "656   WAR-XCH-79d12f6e-6   Cc1ccc(C)c(S(=O)(=O)N2CCN(C(=O)CCl)CC2)c1\n",
       "657   ALP-POS-869ac754-1  O=C(Nc1cncc2ccccc12)C1CCOc2cc(Cl)c(Cl)cc21\n",
       "658  MED-COV-4280ac29-15             O=C(CCl)N1CCN(Cc2cccc(Cl)c2)CC1\n",
       "659   LON-WEI-8f408cad-4      O=C(CCl)N1CCN(S(=O)(=O)c2cccc(F)c2)CC1\n",
       "660   BEN-DND-f2e727cd-5      O=C(Nc1cncc2ccccc12)C1CNCc2ccc(Cl)cc21\n",
       "\n",
       "[661 rows x 2 columns]"
      ]
     },
     "execution_count": 128,
     "metadata": {},
     "output_type": "execute_result"
    }
   ],
   "source": [
    "df = pd.read_sql_query(\"\"\"\n",
    "SELECT compounds.id, compounds.smiles\n",
    "FROM compounds \n",
    "INNER JOIN assays ON compounds.id = assays.compound_id\n",
    "WHERE assays.r_avg_IC50 != \"\" AND assays.f_avg_IC50 != \"\" ;\n",
    "\"\"\",\n",
    "conn)\n",
    "df"
   ]
  },
  {
   "cell_type": "markdown",
   "metadata": {},
   "source": [
    "# Converting compounds database to pandas dataframe"
   ]
  },
  {
   "cell_type": "code",
   "execution_count": 129,
   "metadata": {},
   "outputs": [],
   "source": [
    "# df = pd.read_sql_query(\"\"\"\n",
    "# SELECT *\n",
    "# FROM compounds;\n",
    "# \"\"\",\n",
    "# conn)\n",
    "# print(df[:10])"
   ]
  },
  {
   "cell_type": "code",
   "execution_count": 130,
   "metadata": {},
   "outputs": [],
   "source": [
    "\n",
    "# new_df=pd.DataFrame()\n",
    "# descriptors={'a': 65, 'b': 66}\n",
    "# new_df=new_df.append(descriptors, ignore_index=True)\n",
    "# print(new_df)"
   ]
  },
  {
   "cell_type": "code",
   "execution_count": 131,
   "metadata": {},
   "outputs": [],
   "source": [
    "# for i in range(len(df)):\n",
    "#     cur_smile=df.iloc[i]['smiles']\n",
    "#     print(cur_smile)\n",
    "#     cur_mol=Molecule(cur_smile)\n",
    "#     cur_mol.descriptors"
   ]
  },
  {
   "cell_type": "markdown",
   "metadata": {},
   "source": [
    "# Creating dataframe with smiles and molecular descriptors"
   ]
  },
  {
   "cell_type": "code",
   "execution_count": 132,
   "metadata": {},
   "outputs": [
    {
     "ename": "SyntaxError",
     "evalue": "invalid syntax (<ipython-input-132-59a610169b59>, line 24)",
     "output_type": "error",
     "traceback": [
      "\u001b[0;36m  File \u001b[0;32m\"<ipython-input-132-59a610169b59>\"\u001b[0;36m, line \u001b[0;32m24\u001b[0m\n\u001b[0;31m    for\u001b[0m\n\u001b[0m        ^\u001b[0m\n\u001b[0;31mSyntaxError\u001b[0m\u001b[0;31m:\u001b[0m invalid syntax\n"
     ]
    }
   ],
   "source": [
    "# new_df=pd.DataFrame()\n",
    "desc_dict = [\n",
    "                     'MW' ,\n",
    "                     'logP' ,\n",
    "                     'TPSA' ,\n",
    "                     'HA' ,\n",
    "                     'h_acc',\n",
    "                     'h_don',\n",
    "                     'rings',\n",
    "                     'MR',\n",
    "                     'Rot_bonds'\n",
    "]\n",
    "\n",
    "for desc in desc_dict:\n",
    "    df[desc]=np.nan\n",
    "df[\"lipinski\"]=np.nan\n",
    "\n",
    "for i in range(len(df)): #change to range(len(df))\n",
    "    cur_smile=df.iloc[i]['smiles']\n",
    "    # print(cur_smile)\n",
    "    cur_mol=Molecule(cur_smile)\n",
    "    descriptors=cur_mol.descriptors()\n",
    "    lipinski=cur_mol.lipinski(descriptors)\n",
    "    for \n",
    "    df[\"lipinski\"].iloc[i]=\n",
    "    # print(descriptors)\n",
    "    for key in desc_dict:\n",
    "        df[key].iloc[i]=descriptors[key]\n",
    "    \n",
    "\n",
    "    # df[\"test\"].iloc[i]= 2\n",
    "    \n",
    "\n",
    "\n",
    "df.to_csv('./compounds-featurized.csv')\n",
    "df"
   ]
  },
  {
   "cell_type": "markdown",
   "metadata": {},
   "source": [
    "# Creating dataframe with molecular descriptors and finding the Lipinski's rule of five violations for each compound"
   ]
  },
  {
   "cell_type": "code",
   "execution_count": null,
   "metadata": {},
   "outputs": [
    {
     "name": "stdout",
     "output_type": "stream",
     "text": [
      "{'MW': True, 'h_acc': True, 'h_don': True, 'logP': True}\n",
      "{'MW': True, 'h_acc': True, 'h_don': True, 'logP': True}\n",
      "     HA       MR          MW  Rot_bonds   TPSA  h_acc  h_don     logP  rings  \\\n",
      "0  22.0  85.2337  287.105862        3.0  65.78    3.0    1.0  3.28768    3.0   \n",
      "1   NaN      NaN    1.000000        NaN    NaN    1.0    1.0  1.00000    NaN   \n",
      "2  20.0  80.5187  262.110613        3.0  41.99    2.0    1.0  3.41600    3.0   \n",
      "3   NaN      NaN    1.000000        NaN    NaN    1.0    1.0  1.00000    NaN   \n",
      "\n",
      "                               smiles  \n",
      "0  N#Cc1cccc(NC(=O)Cc2cncc3ccccc23)c1  \n",
      "1                                 NaN  \n",
      "2       O=C(Cc1cncc2ccccc12)Nc1ccccc1  \n",
      "3                                 NaN  \n"
     ]
    }
   ],
   "source": [
    "new_df=pd.DataFrame()\n",
    "for i in range(2): #change to range(len(df))\n",
    "    cur_smile=df.iloc[i]['smiles']\n",
    "    cur_mol=Molecule(cur_smile)\n",
    "    descriptors=cur_mol.descriptors()\n",
    "    lipinski=cur_mol.lipinski(descriptors)\n",
    "    print(lipinski)\n",
    "    new_df=new_df.append(descriptors, ignore_index=True)\n",
    "    \n",
    "    new_df=new_df.append(lipinski, ignore_index=True)\n",
    "\n",
    "print(new_df)\n",
    "\n"
   ]
  },
  {
   "cell_type": "markdown",
   "metadata": {},
   "source": [
    "# Trying to discard compounds that fail Lipinski's rule of 5"
   ]
  },
  {
   "cell_type": "code",
   "execution_count": null,
   "metadata": {},
   "outputs": [],
   "source": [
    "lipinski_list = ['MW', 'logP', 'h_acc', 'h_don']\n",
    "    # r_group_1_id = request.args.get('r1')\n",
    "    # r_group_2_id = request.args.get('r2')\n",
    "    # molecule_key = tuple2str((r_group_1_id, r_group_2_id))\n",
    "    # drug_mol = FinalMolecule(r_group_1_id, r_group_2_id)\n",
    "    # drug_lipinski = drug_mol.lipinski(drug_mol.descriptors())\n",
    "    # lipinski_dict = {cur_mol: lipinski}\n",
    "for label in lipinski_list:\n",
    "    if \"False\" not in lipinski:\n",
    "        pass\n",
    "    # else:\n",
    "    #     # delete smiles/compound row"
   ]
  },
  {
   "cell_type": "markdown",
   "metadata": {},
   "source": [
    "# Trying to discard compounds that violate more than one of Lipinski's rule of 5"
   ]
  },
  {
   "cell_type": "code",
   "execution_count": null,
   "metadata": {},
   "outputs": [],
   "source": [
    "\n",
    "# for label in lipinski_list:\n",
    "#     if \"False\" appears twice  in lipinski:\n",
    "#         #delete it\n",
    "#     # else:\n",
    "#         pass"
   ]
  },
  {
   "cell_type": "markdown",
   "metadata": {},
   "source": [
    "# Variants of Lipinski's rule of 5"
   ]
  },
  {
   "cell_type": "markdown",
   "metadata": {},
   "source": [
    "# Molar refractivity from 40 to 130, 10 or fewer rotatable bonds, Polar surface area no greater than 140 Å2. Drugs are predicted to have predicted to have good oral bioavailability when the last 2 of these are satisfied.\n",
    "\n",
    "# TPSA is calculated above\n",
    "\n",
    "# Not calculating these descriptors - not sure why"
   ]
  },
  {
   "cell_type": "code",
   "execution_count": null,
   "metadata": {},
   "outputs": [
    {
     "name": "stdout",
     "output_type": "stream",
     "text": [
      "{'MW': True, 'h_acc': True, 'h_don': True, 'logP': True}\n"
     ]
    },
    {
     "ename": "ArgumentError",
     "evalue": "Python argument types in\n    rdkit.Chem.rdMolDescriptors.CalcNumHBA(Molecule)\ndid not match C++ signature:\n    CalcNumHBA(RDKit::ROMol mol)",
     "output_type": "error",
     "traceback": [
      "\u001b[0;31m---------------------------------------------------------------------------\u001b[0m",
      "\u001b[0;31mArgumentError\u001b[0m                             Traceback (most recent call last)",
      "\u001b[0;32m<ipython-input-114-9a6db22238fc>\u001b[0m in \u001b[0;36m<module>\u001b[0;34m\u001b[0m\n\u001b[1;32m      3\u001b[0m \u001b[0mlipinski\u001b[0m\u001b[0;34m=\u001b[0m\u001b[0mmol1\u001b[0m\u001b[0;34m.\u001b[0m\u001b[0mlipinski\u001b[0m\u001b[0;34m(\u001b[0m\u001b[0mdescriptors\u001b[0m\u001b[0;34m)\u001b[0m\u001b[0;34m\u001b[0m\u001b[0;34m\u001b[0m\u001b[0m\n\u001b[1;32m      4\u001b[0m \u001b[0mprint\u001b[0m\u001b[0;34m(\u001b[0m\u001b[0mlipinski\u001b[0m\u001b[0;34m)\u001b[0m\u001b[0;34m\u001b[0m\u001b[0;34m\u001b[0m\u001b[0m\n\u001b[0;32m----> 5\u001b[0;31m \u001b[0mh_acceptors\u001b[0m \u001b[0;34m=\u001b[0m \u001b[0mLipinski\u001b[0m\u001b[0;34m.\u001b[0m\u001b[0mNumHAcceptors\u001b[0m\u001b[0;34m(\u001b[0m\u001b[0mmol1\u001b[0m\u001b[0;34m)\u001b[0m\u001b[0;34m\u001b[0m\u001b[0;34m\u001b[0m\u001b[0m\n\u001b[0m\u001b[1;32m      6\u001b[0m \u001b[0mprint\u001b[0m\u001b[0;34m(\u001b[0m\u001b[0mh_acceptors\u001b[0m\u001b[0;34m)\u001b[0m\u001b[0;34m\u001b[0m\u001b[0;34m\u001b[0m\u001b[0m\n\u001b[1;32m      7\u001b[0m \u001b[0mmolar_refractivity\u001b[0m\u001b[0;34m=\u001b[0m\u001b[0mChem\u001b[0m\u001b[0;34m.\u001b[0m\u001b[0mCrippen\u001b[0m\u001b[0;34m.\u001b[0m\u001b[0mMolMR\u001b[0m\u001b[0;34m(\u001b[0m\u001b[0mmol1\u001b[0m\u001b[0;34m)\u001b[0m\u001b[0;34m\u001b[0m\u001b[0;34m\u001b[0m\u001b[0m\n",
      "\u001b[0;32m/usr/local/anaconda3.7/lib/python3.7/site-packages/rdkit/Chem/Lipinski.py\u001b[0m in \u001b[0;36m<lambda>\u001b[0;34m(x)\u001b[0m\n\u001b[1;32m     51\u001b[0m \u001b[0mNumHDonors\u001b[0m\u001b[0;34m.\u001b[0m\u001b[0mversion\u001b[0m \u001b[0;34m=\u001b[0m \u001b[0;34m\"1.0.0\"\u001b[0m\u001b[0;34m\u001b[0m\u001b[0;34m\u001b[0m\u001b[0m\n\u001b[1;32m     52\u001b[0m \u001b[0m_HDonors\u001b[0m \u001b[0;34m=\u001b[0m \u001b[0;32mlambda\u001b[0m \u001b[0mx\u001b[0m\u001b[0;34m,\u001b[0m \u001b[0my\u001b[0m\u001b[0;34m=\u001b[0m\u001b[0mHDonorSmarts\u001b[0m\u001b[0;34m:\u001b[0m \u001b[0mx\u001b[0m\u001b[0;34m.\u001b[0m\u001b[0mGetSubstructMatches\u001b[0m\u001b[0;34m(\u001b[0m\u001b[0my\u001b[0m\u001b[0;34m,\u001b[0m \u001b[0muniquify\u001b[0m\u001b[0;34m=\u001b[0m\u001b[0;36m1\u001b[0m\u001b[0;34m)\u001b[0m\u001b[0;34m\u001b[0m\u001b[0;34m\u001b[0m\u001b[0m\n\u001b[0;32m---> 53\u001b[0;31m \u001b[0mNumHAcceptors\u001b[0m \u001b[0;34m=\u001b[0m \u001b[0;32mlambda\u001b[0m \u001b[0mx\u001b[0m\u001b[0;34m:\u001b[0m \u001b[0mrdMolDescriptors\u001b[0m\u001b[0;34m.\u001b[0m\u001b[0mCalcNumHBA\u001b[0m\u001b[0;34m(\u001b[0m\u001b[0mx\u001b[0m\u001b[0;34m)\u001b[0m\u001b[0;34m\u001b[0m\u001b[0;34m\u001b[0m\u001b[0m\n\u001b[0m\u001b[1;32m     54\u001b[0m \u001b[0mNumHAcceptors\u001b[0m\u001b[0;34m.\u001b[0m\u001b[0m__doc__\u001b[0m \u001b[0;34m=\u001b[0m \u001b[0;34m\"Number of Hydrogen Bond Acceptors\"\u001b[0m\u001b[0;34m\u001b[0m\u001b[0;34m\u001b[0m\u001b[0m\n\u001b[1;32m     55\u001b[0m \u001b[0mNumHAcceptors\u001b[0m\u001b[0;34m.\u001b[0m\u001b[0mversion\u001b[0m \u001b[0;34m=\u001b[0m \u001b[0;34m\"2.0.0\"\u001b[0m\u001b[0;34m\u001b[0m\u001b[0;34m\u001b[0m\u001b[0m\n",
      "\u001b[0;31mArgumentError\u001b[0m: Python argument types in\n    rdkit.Chem.rdMolDescriptors.CalcNumHBA(Molecule)\ndid not match C++ signature:\n    CalcNumHBA(RDKit::ROMol mol)"
     ]
    }
   ],
   "source": [
    "mol1=Molecule(\"OCC\")\n",
    "descriptors=mol1.descriptors()\n",
    "lipinski=mol1.lipinski(descriptors)\n",
    "print(lipinski)\n",
    "h_acceptors = Lipinski.NumHAcceptors(mol1)\n",
    "print(h_acceptors)\n",
    "molar_refractivity=Chem.Crippen.MolMR(mol1)\n",
    "rotatable_bonds= Descriptors.NumRotatableBonds(mol1)\n",
    "print(molar_refractivity)\n",
    "print(rotatable_bonds)\n"
   ]
  }
 ],
 "metadata": {
  "interpreter": {
   "hash": "37ce5f569002fec7303b2b36d6096f963beffc9d08c085c3b9673cb4e70b2022"
  },
  "kernelspec": {
   "display_name": "Python 3.7.6 64-bit ('base': conda)",
   "language": "python",
   "name": "python3"
  },
  "language_info": {
   "codemirror_mode": {
    "name": "ipython",
    "version": 3
   },
   "file_extension": ".py",
   "mimetype": "text/x-python",
   "name": "python",
   "nbconvert_exporter": "python",
   "pygments_lexer": "ipython3",
   "version": "3.7.6"
  },
  "orig_nbformat": 4
 },
 "nbformat": 4,
 "nbformat_minor": 2
}
