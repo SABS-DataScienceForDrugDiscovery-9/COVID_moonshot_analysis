{
 "cells": [
  {
   "cell_type": "markdown",
   "metadata": {},
   "source": [
    "# STEP 2\n",
    "## Data Exploration\n",
    "## Featurization"
   ]
  },
  {
   "cell_type": "code",
   "execution_count": 1,
   "metadata": {},
   "outputs": [],
   "source": [
    "import sqlite3\n",
    "import csv\n",
    "import pandas as pd"
   ]
  },
  {
   "cell_type": "code",
   "execution_count": 2,
   "metadata": {},
   "outputs": [],
   "source": [
    "conn = sqlite3.connect('sabs_moonshot.db')"
   ]
  },
  {
   "cell_type": "markdown",
   "metadata": {},
   "source": [
    "# Extract the compounds with missing descriptors"
   ]
  },
  {
   "cell_type": "code",
   "execution_count": 8,
   "metadata": {},
   "outputs": [
    {
     "name": "stdout",
     "output_type": "stream",
     "text": [
      "                     id MW HBA HBD cLogP  \\\n",
      "0    DAR-DIA-6a508060-1                    \n",
      "1    DAR-DIA-6a508060-2                    \n",
      "2    DAR-DIA-6a508060-3                    \n",
      "3    DAR-DIA-6a508060-4                    \n",
      "4    DAR-DIA-6a508060-5                    \n",
      "5    DAR-DIA-6a508060-7                    \n",
      "6    DAR-DIA-6a508060-8                    \n",
      "7    DAR-DIA-6a508060-9                    \n",
      "8   DAR-DIA-6a508060-10                    \n",
      "9   DAR-DIA-6a508060-11                    \n",
      "10  DAR-DIA-6a508060-12                    \n",
      "11  DAR-DIA-6a508060-13                    \n",
      "12  DAR-DIA-6a508060-14                    \n",
      "13  DAR-DIA-6a508060-15                    \n",
      "14  DAR-DIA-6a508060-16                    \n",
      "15   ALP-UNI-b33a865d-1                    \n",
      "16   ALP-UNI-b33a865d-1                    \n",
      "17   ALP-UNI-b33a865d-1                    \n",
      "18   DAR-DIA-6a508060-3                    \n",
      "19   DAR-DIA-6a508060-4                    \n",
      "20   PRA-UNK-2c426785-1                    \n",
      "21   EDG-MED-0c930815-1                    \n",
      "22   EDG-MED-0c930815-1                    \n",
      "23   EDG-MED-0c930815-1      6   0  3.61   \n",
      "\n",
      "                                               smiles  \n",
      "0              O=C(Cc1cncc2ccccc12)C1CCOc2ccc(Cl)cc21  \n",
      "1              O=C(Oc1cncc2ccccc12)C1CCOc2ccc(Cl)cc21  \n",
      "2           N#Cc1ccc2c(c1)C(C(=O)Nc1cncc3ccccc13)CCO2  \n",
      "3            COc1cc(Cl)cc2c1OCCC2C(=O)Nc1cncc2ccccc12  \n",
      "4   O=C1CC(Cc2cc(Cl)cc3c2OCCC3C(=O)Nc2cncc3ccccc23)N1  \n",
      "5              O=C(NC1N=Nc2ccccc21)C1CCOc2ccc(Cl)cc21  \n",
      "6           O=C(Nc1cncc2ccccc12)C1CCOc2ccc(C3CC3)cc21  \n",
      "7   O=C(Nc1cncc2ccccc12)C1(CCC2CCCCC2)CCOc2ccc(Cl)...  \n",
      "8           CC1(C(=O)Nc2cncc3ccccc23)CCOc2ccc(Cl)cc21  \n",
      "9                 O=C(Nc1cncc2ccccc12)C1CC(C2CC2Cl)C1  \n",
      "10                     Cc1ccncc1NC(=O)C1CC(C2CC2Cl)C1  \n",
      "11  CS(=O)(=O)NCCC1(C(=O)Nc2cncc3ccccc23)CCOc2ccc(...  \n",
      "12             Cc1cc(CN(C)C(=O)C2CCOc3ccc(Cl)cc32)no1  \n",
      "13             Cc1cc(CN(C)C(=O)C2CCOc3ccc(Cl)cc32)on1  \n",
      "14   Cc1cc(CN(C(=O)CC2CC2)C(=O)C2CCOc3ccc(Cl)cc32)no1  \n",
      "15  O=C(Nc1cncc2ccccc12)C1CCN(Cc2cnc[nH]2)c2ccc(Cl...  \n",
      "16  O=C(Nc1cncc2ccccc12)C1CCN(Cc2cnc[nH]2)c2ccc(Cl...  \n",
      "17  O=C(Nc1cncc2ccccc12)C1CCN(Cc2cnc[nH]2)c2ccc(Cl...  \n",
      "18          N#Cc1ccc2c(c1)C(C(=O)Nc1cncc3ccccc13)CCO2  \n",
      "19           COc1cc(Cl)cc2c1OCCC2C(=O)Nc1cncc2ccccc12  \n",
      "20  CC1(C)CC[C@]2(C(=O)O)CC=C3[C@@](C)(CC[C@H]4[C@...  \n",
      "21  N#CC1(CS(=O)(=O)N2Cc3ccc(Cl)cc3C3(C2)N=CN(c2cn...  \n",
      "22  N#CC1(CS(=O)(=O)N2Cc3ccc(Cl)cc3C3(C2)N=CN(c2cn...  \n",
      "23  N#CC1(CS(=O)(=O)N2Cc3ccc(Cl)cc3C3(C2)N=CN(c2cn...  \n"
     ]
    }
   ],
   "source": [
    "df = pd.read_sql_query(\"\"\"\n",
    "SELECT \n",
    "    compounds.id,\n",
    "    compounds.MW,\n",
    "    rdkit_descriptors.HBA,\n",
    "    rdkit_descriptors.HBD, rdkit_descriptors.cLogP,\n",
    "    compounds.smiles\n",
    "FROM rdkit_descriptors \n",
    "INNER JOIN compounds on compounds.id = rdkit_descriptors.compound_id\n",
    "WHERE HBA = \"\" OR HBD = \"\" OR MW = \"\" OR cLogP = \"\" AND assayed = TRUE;\n",
    "\"\"\",\n",
    "conn)\n",
    "print(df)"
   ]
  }
 ],
 "metadata": {
  "interpreter": {
   "hash": "37ce5f569002fec7303b2b36d6096f963beffc9d08c085c3b9673cb4e70b2022"
  },
  "kernelspec": {
   "display_name": "Python 3.7.6 64-bit ('base': conda)",
   "language": "python",
   "name": "python3"
  },
  "language_info": {
   "codemirror_mode": {
    "name": "ipython",
    "version": 3
   },
   "file_extension": ".py",
   "mimetype": "text/x-python",
   "name": "python",
   "nbconvert_exporter": "python",
   "pygments_lexer": "ipython3",
   "version": "3.7.6"
  },
  "orig_nbformat": 4
 },
 "nbformat": 4,
 "nbformat_minor": 2
}
