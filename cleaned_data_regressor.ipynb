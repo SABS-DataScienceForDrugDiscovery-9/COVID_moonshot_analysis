{
 "cells": [
  {
   "cell_type": "code",
   "execution_count": 15,
   "metadata": {},
   "outputs": [],
   "source": [
    "import pandas as pd\n",
    "import sqlite3\n",
    "import numpy as np\n",
    "from plotnine import *"
   ]
  },
  {
   "cell_type": "markdown",
   "metadata": {},
   "source": [
    "# Connect to Database and Extract Dataset"
   ]
  },
  {
   "cell_type": "code",
   "execution_count": 16,
   "metadata": {},
   "outputs": [
    {
     "data": {
      "text/html": [
       "<div>\n",
       "<style scoped>\n",
       "    .dataframe tbody tr th:only-of-type {\n",
       "        vertical-align: middle;\n",
       "    }\n",
       "\n",
       "    .dataframe tbody tr th {\n",
       "        vertical-align: top;\n",
       "    }\n",
       "\n",
       "    .dataframe thead th {\n",
       "        text-align: right;\n",
       "    }\n",
       "</style>\n",
       "<table border=\"1\" class=\"dataframe\">\n",
       "  <thead>\n",
       "    <tr style=\"text-align: right;\">\n",
       "      <th></th>\n",
       "      <th>smiles</th>\n",
       "      <th>fingerprint</th>\n",
       "      <th>r_avg_IC50</th>\n",
       "      <th>f_avg_IC50</th>\n",
       "    </tr>\n",
       "  </thead>\n",
       "  <tbody>\n",
       "    <tr>\n",
       "      <th>2</th>\n",
       "      <td>N#Cc1cccc(NC(=O)Cc2cncc3ccccc23)c1</td>\n",
       "      <td>0000000000000000000000000000000000000000010000...</td>\n",
       "      <td>14.641091</td>\n",
       "      <td>26.680129</td>\n",
       "    </tr>\n",
       "    <tr>\n",
       "      <th>3</th>\n",
       "      <td>O=C(Cc1cncc2ccccc12)Nc1ccccc1</td>\n",
       "      <td>0000000000000000000000000000000000000000010000...</td>\n",
       "      <td>45.077469</td>\n",
       "      <td>57.469670</td>\n",
       "    </tr>\n",
       "    <tr>\n",
       "      <th>5</th>\n",
       "      <td>Cc1c(N)cncc1NC(=O)Cc1cccc(Cl)c1</td>\n",
       "      <td>0000000000000000000000000000000000000000010000...</td>\n",
       "      <td>8.201698</td>\n",
       "      <td>4.222340</td>\n",
       "    </tr>\n",
       "    <tr>\n",
       "      <th>6</th>\n",
       "      <td>Cc1ccncc1NC(=O)Cc1cccc(Cl)c1</td>\n",
       "      <td>0000000000000000000000000000000000000000010000...</td>\n",
       "      <td>13.895165</td>\n",
       "      <td>24.566619</td>\n",
       "    </tr>\n",
       "    <tr>\n",
       "      <th>7</th>\n",
       "      <td>Cc1ccncc1NC(=O)Nc1cccc(Cl)c1</td>\n",
       "      <td>0000000000000000000000000000000000000000000000...</td>\n",
       "      <td>45.689263</td>\n",
       "      <td>64.413611</td>\n",
       "    </tr>\n",
       "    <tr>\n",
       "      <th>...</th>\n",
       "      <td>...</td>\n",
       "      <td>...</td>\n",
       "      <td>...</td>\n",
       "      <td>...</td>\n",
       "    </tr>\n",
       "    <tr>\n",
       "      <th>1616</th>\n",
       "      <td>Cc1ccc(C)c(S(=O)(=O)N2CCN(C(=O)CCl)CC2)c1</td>\n",
       "      <td>0000000000000000000000000000000000000000000000...</td>\n",
       "      <td>1.623369</td>\n",
       "      <td>14.216485</td>\n",
       "    </tr>\n",
       "    <tr>\n",
       "      <th>1637</th>\n",
       "      <td>O=C(Nc1cncc2ccccc12)C1CCOc2cc(Cl)c(Cl)cc21</td>\n",
       "      <td>0000000000000000000000000000000000000000000000...</td>\n",
       "      <td>0.309337</td>\n",
       "      <td>0.205428</td>\n",
       "    </tr>\n",
       "    <tr>\n",
       "      <th>1711</th>\n",
       "      <td>O=C(CCl)N1CCN(Cc2cccc(Cl)c2)CC1</td>\n",
       "      <td>0000000000000000000000000000000000000000000000...</td>\n",
       "      <td>0.545448</td>\n",
       "      <td>2.536267</td>\n",
       "    </tr>\n",
       "    <tr>\n",
       "      <th>1802</th>\n",
       "      <td>O=C(CCl)N1CCN(S(=O)(=O)c2cccc(F)c2)CC1</td>\n",
       "      <td>0000000000000000000000000000000000000000000000...</td>\n",
       "      <td>2.023561</td>\n",
       "      <td>3.666429</td>\n",
       "    </tr>\n",
       "    <tr>\n",
       "      <th>1813</th>\n",
       "      <td>O=C(Nc1cncc2ccccc12)C1CNCc2ccc(Cl)cc21</td>\n",
       "      <td>0000000000000000000000000000000000000000000000...</td>\n",
       "      <td>2.795197</td>\n",
       "      <td>1.953394</td>\n",
       "    </tr>\n",
       "  </tbody>\n",
       "</table>\n",
       "<p>424 rows × 4 columns</p>\n",
       "</div>"
      ],
      "text/plain": [
       "                                          smiles  \\\n",
       "2             N#Cc1cccc(NC(=O)Cc2cncc3ccccc23)c1   \n",
       "3                  O=C(Cc1cncc2ccccc12)Nc1ccccc1   \n",
       "5                Cc1c(N)cncc1NC(=O)Cc1cccc(Cl)c1   \n",
       "6                   Cc1ccncc1NC(=O)Cc1cccc(Cl)c1   \n",
       "7                   Cc1ccncc1NC(=O)Nc1cccc(Cl)c1   \n",
       "...                                          ...   \n",
       "1616   Cc1ccc(C)c(S(=O)(=O)N2CCN(C(=O)CCl)CC2)c1   \n",
       "1637  O=C(Nc1cncc2ccccc12)C1CCOc2cc(Cl)c(Cl)cc21   \n",
       "1711             O=C(CCl)N1CCN(Cc2cccc(Cl)c2)CC1   \n",
       "1802      O=C(CCl)N1CCN(S(=O)(=O)c2cccc(F)c2)CC1   \n",
       "1813      O=C(Nc1cncc2ccccc12)C1CNCc2ccc(Cl)cc21   \n",
       "\n",
       "                                            fingerprint  r_avg_IC50  \\\n",
       "2     0000000000000000000000000000000000000000010000...   14.641091   \n",
       "3     0000000000000000000000000000000000000000010000...   45.077469   \n",
       "5     0000000000000000000000000000000000000000010000...    8.201698   \n",
       "6     0000000000000000000000000000000000000000010000...   13.895165   \n",
       "7     0000000000000000000000000000000000000000000000...   45.689263   \n",
       "...                                                 ...         ...   \n",
       "1616  0000000000000000000000000000000000000000000000...    1.623369   \n",
       "1637  0000000000000000000000000000000000000000000000...    0.309337   \n",
       "1711  0000000000000000000000000000000000000000000000...    0.545448   \n",
       "1802  0000000000000000000000000000000000000000000000...    2.023561   \n",
       "1813  0000000000000000000000000000000000000000000000...    2.795197   \n",
       "\n",
       "      f_avg_IC50  \n",
       "2      26.680129  \n",
       "3      57.469670  \n",
       "5       4.222340  \n",
       "6      24.566619  \n",
       "7      64.413611  \n",
       "...          ...  \n",
       "1616   14.216485  \n",
       "1637    0.205428  \n",
       "1711    2.536267  \n",
       "1802    3.666429  \n",
       "1813    1.953394  \n",
       "\n",
       "[424 rows x 4 columns]"
      ]
     },
     "execution_count": 16,
     "metadata": {},
     "output_type": "execute_result"
    }
   ],
   "source": [
    "conn = sqlite3.connect(\"sabs_moonshot.db\")\n",
    "data = pd.read_sql_query(\"\"\"\n",
    "SELECT smiles, fingerprint, r_avg_IC50, f_avg_IC50\n",
    "FROM assays\n",
    "INNER JOIN compounds ON compounds.id = assays.compound_id\n",
    "WHERE assays.r_avg_IC50 != \"\" OR assays.f_avg_IC50 != \"\";\n",
    "\"\"\", conn)\n",
    "pd.to_numeric(data[\"r_avg_IC50\"], errors='coerce')\n",
    "pd.to_numeric(data[\"f_avg_IC50\"], errors='coerce')\n",
    "data[\"r_avg_IC50\"] = data[\"r_avg_IC50\"].replace(\"\", np.NaN)\n",
    "data[\"f_avg_IC50\"] = data[\"f_avg_IC50\"].replace(\"\", np.NaN)\n",
    "conn.close()\n",
    "data = data[data[\"f_avg_IC50\"] < 99]\n",
    "data = data[data[\"r_avg_IC50\"] < 99]\n",
    "data"
   ]
  },
  {
   "cell_type": "markdown",
   "metadata": {},
   "source": [
    "## Create X, Y Inputs and Outputs numpy arrays"
   ]
  },
  {
   "cell_type": "code",
   "execution_count": 17,
   "metadata": {},
   "outputs": [],
   "source": [
    "X = np.array([[int(c) for c in data[\"fingerprint\"].iloc[i]] for i in range(len(data[\"fingerprint\"]))])\n",
    "Y = -np.log10(np.mean(data[[\"r_avg_IC50\", \"f_avg_IC50\"]], axis=1).to_numpy())"
   ]
  },
  {
   "cell_type": "markdown",
   "metadata": {},
   "source": [
    "# Perform Feature Selection"
   ]
  },
  {
   "cell_type": "markdown",
   "metadata": {},
   "source": [
    "### Remove Low Variance Features"
   ]
  },
  {
   "cell_type": "code",
   "execution_count": 18,
   "metadata": {},
   "outputs": [
    {
     "data": {
      "text/plain": [
       "(424, 1322)"
      ]
     },
     "execution_count": 18,
     "metadata": {},
     "output_type": "execute_result"
    }
   ],
   "source": [
    "from sklearn.feature_selection import VarianceThreshold\n",
    "sel = VarianceThreshold(threshold = 0)\n",
    "X = sel.fit_transform(X)\n",
    "X.shape"
   ]
  },
  {
   "cell_type": "markdown",
   "metadata": {},
   "source": [
    "### Remove Highly Correlated Features"
   ]
  },
  {
   "cell_type": "code",
   "execution_count": 19,
   "metadata": {},
   "outputs": [
    {
     "data": {
      "text/plain": [
       "(424, 986)"
      ]
     },
     "execution_count": 19,
     "metadata": {},
     "output_type": "execute_result"
    }
   ],
   "source": [
    "X = pd.DataFrame(X)\n",
    "corr_matrix = X.corr().abs()\n",
    "upper = corr_matrix.where(np.triu(np.ones(corr_matrix.shape), k=1).astype(np.bool))\n",
    "to_drop = [column for column in upper.columns if any(upper[column] > 0.95)]\n",
    "X.drop(to_drop, axis=1, inplace=True)\n",
    "X = X.to_numpy()\n",
    "X.shape\n"
   ]
  },
  {
   "cell_type": "markdown",
   "metadata": {},
   "source": [
    "### Final Datasets X and Y"
   ]
  },
  {
   "cell_type": "code",
   "execution_count": 20,
   "metadata": {},
   "outputs": [],
   "source": [
    "X, Y # X is features, Y is avg IC50\n",
    "np.save(\"regressor_data/X\", X)\n",
    "np.save(\"regressor_data/Y\", Y)"
   ]
  },
  {
   "cell_type": "code",
   "execution_count": 21,
   "metadata": {},
   "outputs": [
    {
     "name": "stderr",
     "output_type": "stream",
     "text": [
      "/usr/local/anaconda3.7/lib/python3.7/site-packages/plotnine/stats/stat_bin.py:93: PlotnineWarning: 'stat_bin()' using 'bins = 11'. Pick better value with 'binwidth'.\n",
      "  warn(msg.format(params['bins']), PlotnineWarning)\n"
     ]
    },
    {
     "data": {
      "image/png": "[encoded data removed]",
      "text/plain": [
       "<Figure size 640x480 with 1 Axes>"
      ]
     },
     "metadata": {},
     "output_type": "display_data"
    },
    {
     "data": {
      "text/plain": [
       "<ggplot: (8777900097401)>"
      ]
     },
     "execution_count": 21,
     "metadata": {},
     "output_type": "execute_result"
    }
   ],
   "source": [
    "(\n",
    "    ggplot(pd.DataFrame(X, Y)) +\n",
    "    geom_histogram(aes(x='Y'))\n",
    ")"
   ]
  }
 ],
 "metadata": {
  "interpreter": {
   "hash": "37ce5f569002fec7303b2b36d6096f963beffc9d08c085c3b9673cb4e70b2022"
  },
  "kernelspec": {
   "display_name": "Python 3.7.6 64-bit ('base': conda)",
   "language": "python",
   "name": "python3"
  },
  "language_info": {
   "codemirror_mode": {
    "name": "ipython",
    "version": 3
   },
   "file_extension": ".py",
   "mimetype": "text/x-python",
   "name": "python",
   "nbconvert_exporter": "python",
   "pygments_lexer": "ipython3",
   "version": "3.7.6"
  },
  "orig_nbformat": 4
 },
 "nbformat": 4,
 "nbformat_minor": 2
}
