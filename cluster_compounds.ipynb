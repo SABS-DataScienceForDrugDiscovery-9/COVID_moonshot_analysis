{
 "cells": [
  {
   "cell_type": "code",
   "execution_count": 1,
   "metadata": {},
   "outputs": [],
   "source": [
    "from rdkit import Chem, DataStructs\n",
    "from rdkit.Chem import AllChem\n",
    "import sqlite3\n",
    "import pandas as pd\n",
    "import numpy as np"
   ]
  },
  {
   "cell_type": "code",
   "execution_count": 3,
   "metadata": {},
   "outputs": [
    {
     "data": {
      "text/html": [
       "<div>\n",
       "<style scoped>\n",
       "    .dataframe tbody tr th:only-of-type {\n",
       "        vertical-align: middle;\n",
       "    }\n",
       "\n",
       "    .dataframe tbody tr th {\n",
       "        vertical-align: top;\n",
       "    }\n",
       "\n",
       "    .dataframe thead th {\n",
       "        text-align: right;\n",
       "    }\n",
       "</style>\n",
       "<table border=\"1\" class=\"dataframe\">\n",
       "  <thead>\n",
       "    <tr style=\"text-align: right;\">\n",
       "      <th></th>\n",
       "      <th>id</th>\n",
       "      <th>smiles</th>\n",
       "      <th>MW</th>\n",
       "      <th>NMR_std_ratio</th>\n",
       "      <th>assayed</th>\n",
       "    </tr>\n",
       "  </thead>\n",
       "  <tbody>\n",
       "    <tr>\n",
       "      <th>0</th>\n",
       "      <td>DAR-DIA-23aa0b97-8</td>\n",
       "      <td>N#Cc1cccc(NC(=O)Nc2cncc(N)c2)c1</td>\n",
       "      <td>253.265</td>\n",
       "      <td></td>\n",
       "      <td>1</td>\n",
       "    </tr>\n",
       "    <tr>\n",
       "      <th>1</th>\n",
       "      <td>DAR-DIA-23aa0b97-11</td>\n",
       "      <td>N#Cc1cccc(NC(=O)Nc2c[nH]c3ncccc23)c1</td>\n",
       "      <td>277.287</td>\n",
       "      <td></td>\n",
       "      <td>1</td>\n",
       "    </tr>\n",
       "    <tr>\n",
       "      <th>2</th>\n",
       "      <td>DAR-DIA-23aa0b97-19</td>\n",
       "      <td>N#Cc1cccc(NC(=O)Cc2cncc3ccccc23)c1</td>\n",
       "      <td>287.322</td>\n",
       "      <td></td>\n",
       "      <td>1</td>\n",
       "    </tr>\n",
       "    <tr>\n",
       "      <th>3</th>\n",
       "      <td>DAR-DIA-23aa0b97-20</td>\n",
       "      <td>O=C(Cc1cncc2ccccc12)Nc1ccccc1</td>\n",
       "      <td>262.312</td>\n",
       "      <td></td>\n",
       "      <td>1</td>\n",
       "    </tr>\n",
       "    <tr>\n",
       "      <th>4</th>\n",
       "      <td>WAR-XCH-eb7b662f-2</td>\n",
       "      <td>N#Cc1cc(Cl)cc(NC(=O)Nc2cccnc2)c1</td>\n",
       "      <td>272.695</td>\n",
       "      <td></td>\n",
       "      <td>1</td>\n",
       "    </tr>\n",
       "  </tbody>\n",
       "</table>\n",
       "</div>"
      ],
      "text/plain": [
       "                    id                                smiles       MW  \\\n",
       "0   DAR-DIA-23aa0b97-8       N#Cc1cccc(NC(=O)Nc2cncc(N)c2)c1  253.265   \n",
       "1  DAR-DIA-23aa0b97-11  N#Cc1cccc(NC(=O)Nc2c[nH]c3ncccc23)c1  277.287   \n",
       "2  DAR-DIA-23aa0b97-19    N#Cc1cccc(NC(=O)Cc2cncc3ccccc23)c1  287.322   \n",
       "3  DAR-DIA-23aa0b97-20         O=C(Cc1cncc2ccccc12)Nc1ccccc1  262.312   \n",
       "4   WAR-XCH-eb7b662f-2      N#Cc1cc(Cl)cc(NC(=O)Nc2cccnc2)c1  272.695   \n",
       "\n",
       "  NMR_std_ratio  assayed  \n",
       "0                      1  \n",
       "1                      1  \n",
       "2                      1  \n",
       "3                      1  \n",
       "4                      1  "
      ]
     },
     "execution_count": 3,
     "metadata": {},
     "output_type": "execute_result"
    }
   ],
   "source": [
    "conn = sqlite3.connect('sabs_moonshot.db')\n",
    "db=pd.read_sql(\"\"\"SELECT * FROM compounds WHERE assayed=1\"\"\",conn)\n",
    "db.head()"
   ]
  },
  {
   "cell_type": "code",
   "execution_count": 4,
   "metadata": {},
   "outputs": [],
   "source": [
    "#Construct a binary fingerprint for each compound in the database\n",
    "N=len(db)\n",
    "fps=[]\n",
    "for i in range(N):\n",
    "    cur_smiles=db['smiles'].iloc[i]\n",
    "    cur_molecule=Chem.MolFromSmiles(cur_smiles)\n",
    "    fps.append(AllChem.GetMorganFingerprintAsBitVect(cur_molecule,2,nBits=2048))"
   ]
  },
  {
   "cell_type": "code",
   "execution_count": 6,
   "metadata": {},
   "outputs": [],
   "source": [
    "#Construct a similarity matix using Tanimoto index\n",
    "S=np.zeros((N,N))\n",
    "for i in range(N):\n",
    "    for j in range(N):\n",
    "        S[i,j]=DataStructs.FingerprintSimilarity(fps[i],fps[j],metric=DataStructs.TanimotoSimilarity)\n",
    "np.save('similarity_matrix',S)"
   ]
  },
  {
   "cell_type": "code",
   "execution_count": 25,
   "metadata": {},
   "outputs": [],
   "source": [
    "from sklearn.manifold import MDS\n",
    "mds=MDS(n_components=2,dissimilarity='precomputed')\n",
    "X=mds.fit_transform(1-S)"
   ]
  },
  {
   "cell_type": "code",
   "execution_count": 26,
   "metadata": {},
   "outputs": [
    {
     "data": {
      "text/plain": [
       "<matplotlib.collections.PathCollection at 0x2231e6dcf08>"
      ]
     },
     "execution_count": 26,
     "metadata": {},
     "output_type": "execute_result"
    },
    {
     "data": {
      "image/png": "[encoded data removed]",
      "text/plain": [
       "<Figure size 432x288 with 1 Axes>"
      ]
     },
     "metadata": {
      "needs_background": "light"
     },
     "output_type": "display_data"
    }
   ],
   "source": [
    "import matplotlib.pyplot as plt\n",
    "fig = plt.figure()\n",
    "plt.scatter(X[:,0],X[:,1])"
   ]
  }
 ],
 "metadata": {
  "interpreter": {
   "hash": "916dbcbb3f70747c44a77c7bcd40155683ae19c65e1c03b4aa3499c5328201f1"
  },
  "kernelspec": {
   "display_name": "Python 3.8.10 64-bit",
   "language": "python",
   "name": "python3"
  },
  "language_info": {
   "codemirror_mode": {
    "name": "ipython",
    "version": 3
   },
   "file_extension": ".py",
   "mimetype": "text/x-python",
   "name": "python",
   "nbconvert_exporter": "python",
   "pygments_lexer": "ipython3",
   "version": "3.7.12"
  },
  "orig_nbformat": 4
 },
 "nbformat": 4,
 "nbformat_minor": 2
}
