{
 "cells": [
  {
   "cell_type": "code",
   "execution_count": 23,
   "metadata": {},
   "outputs": [],
   "source": [
    "from rdkit import Chem, DataStructs\n",
    "from rdkit.Chem import AllChem\n",
    "import sqlite3\n",
    "import pandas as pd\n",
    "import numpy as np"
   ]
  },
  {
   "cell_type": "code",
   "execution_count": 8,
   "metadata": {},
   "outputs": [
    {
     "data": {
      "text/html": [
       "<div>\n",
       "<style scoped>\n",
       "    .dataframe tbody tr th:only-of-type {\n",
       "        vertical-align: middle;\n",
       "    }\n",
       "\n",
       "    .dataframe tbody tr th {\n",
       "        vertical-align: top;\n",
       "    }\n",
       "\n",
       "    .dataframe thead th {\n",
       "        text-align: right;\n",
       "    }\n",
       "</style>\n",
       "<table border=\"1\" class=\"dataframe\">\n",
       "  <thead>\n",
       "    <tr style=\"text-align: right;\">\n",
       "      <th></th>\n",
       "      <th>id</th>\n",
       "      <th>smiles</th>\n",
       "      <th>MW</th>\n",
       "      <th>NMR_std_ratio</th>\n",
       "      <th>assayed</th>\n",
       "    </tr>\n",
       "  </thead>\n",
       "  <tbody>\n",
       "    <tr>\n",
       "      <th>0</th>\n",
       "      <td>ANT-DIA-3c79be55-1</td>\n",
       "      <td>N#Cc1ccccc1NC(=O)Cc1c[nH]c2ncccc12</td>\n",
       "      <td>276.299</td>\n",
       "      <td></td>\n",
       "      <td>0</td>\n",
       "    </tr>\n",
       "    <tr>\n",
       "      <th>1</th>\n",
       "      <td>ANT-DIA-3c79be55-2</td>\n",
       "      <td>N#Cc1ccccc1NC(=O)Cc1cccnc1</td>\n",
       "      <td>237.262</td>\n",
       "      <td></td>\n",
       "      <td>0</td>\n",
       "    </tr>\n",
       "    <tr>\n",
       "      <th>2</th>\n",
       "      <td>ANT-DIA-3c79be55-3</td>\n",
       "      <td>CCNc1ccc(C#N)c(NC(=O)Cc2c[nH]c3ncccc23)c1</td>\n",
       "      <td>319.368</td>\n",
       "      <td></td>\n",
       "      <td>0</td>\n",
       "    </tr>\n",
       "    <tr>\n",
       "      <th>3</th>\n",
       "      <td>ANT-DIA-3c79be55-4</td>\n",
       "      <td>CS(=O)(=O)Cc1ccc(C(=O)Nc2cccnc2)o1</td>\n",
       "      <td>280.305</td>\n",
       "      <td></td>\n",
       "      <td>0</td>\n",
       "    </tr>\n",
       "    <tr>\n",
       "      <th>4</th>\n",
       "      <td>ANT-DIA-3c79be55-5</td>\n",
       "      <td>O=C(Nc1cccnc1)c1ccc(N2CCC(O)CC2)o1</td>\n",
       "      <td>287.319</td>\n",
       "      <td></td>\n",
       "      <td>0</td>\n",
       "    </tr>\n",
       "  </tbody>\n",
       "</table>\n",
       "</div>"
      ],
      "text/plain": [
       "                   id                                     smiles       MW  \\\n",
       "0  ANT-DIA-3c79be55-1         N#Cc1ccccc1NC(=O)Cc1c[nH]c2ncccc12  276.299   \n",
       "1  ANT-DIA-3c79be55-2                 N#Cc1ccccc1NC(=O)Cc1cccnc1  237.262   \n",
       "2  ANT-DIA-3c79be55-3  CCNc1ccc(C#N)c(NC(=O)Cc2c[nH]c3ncccc23)c1  319.368   \n",
       "3  ANT-DIA-3c79be55-4         CS(=O)(=O)Cc1ccc(C(=O)Nc2cccnc2)o1  280.305   \n",
       "4  ANT-DIA-3c79be55-5         O=C(Nc1cccnc1)c1ccc(N2CCC(O)CC2)o1  287.319   \n",
       "\n",
       "  NMR_std_ratio  assayed  \n",
       "0                      0  \n",
       "1                      0  \n",
       "2                      0  \n",
       "3                      0  \n",
       "4                      0  "
      ]
     },
     "execution_count": 8,
     "metadata": {},
     "output_type": "execute_result"
    }
   ],
   "source": [
    "conn = sqlite3.connect('sabs_moonshot.db')\n",
    "db=pd.read_sql(\"\"\"SELECT * FROM compounds\"\"\",conn)\n",
    "db.head()"
   ]
  },
  {
   "cell_type": "code",
   "execution_count": 19,
   "metadata": {},
   "outputs": [],
   "source": [
    "#Construct a binary fingerprint for each compound in the database\n",
    "N=len(db)\n",
    "fps=[]\n",
    "for i in range(N):\n",
    "    cur_smiles=db['smiles'].iloc[i]\n",
    "    cur_molecule=Chem.MolFromSmiles(cur_smiles)\n",
    "    fps.append(AllChem.GetMorganFingerprintAsBitVect(cur_molecule,2,nBits=2048))"
   ]
  },
  {
   "cell_type": "code",
   "execution_count": 25,
   "metadata": {},
   "outputs": [],
   "source": [
    "#Construct a similarity matix using Tanimoto index\n",
    "S=np.zeros((N,N))\n",
    "for i in range(N):\n",
    "    for j in range(N):\n",
    "        S[i,j]=DataStructs.FingerprintSimilarity(fps[i],fps[j],metric=DataStructs.TanimotoSimilarity)"
   ]
  }
 ],
 "metadata": {
  "interpreter": {
   "hash": "916dbcbb3f70747c44a77c7bcd40155683ae19c65e1c03b4aa3499c5328201f1"
  },
  "kernelspec": {
   "display_name": "Python 3.8.10 64-bit",
   "language": "python",
   "name": "python3"
  },
  "language_info": {
   "codemirror_mode": {
    "name": "ipython",
    "version": 3
   },
   "file_extension": ".py",
   "mimetype": "text/x-python",
   "name": "python",
   "nbconvert_exporter": "python",
   "pygments_lexer": "ipython3",
   "version": "3.7.6"
  },
  "orig_nbformat": 4
 },
 "nbformat": 4,
 "nbformat_minor": 2
}
