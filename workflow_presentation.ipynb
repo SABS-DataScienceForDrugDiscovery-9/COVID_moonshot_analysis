{
 "cells": [
  {
   "cell_type": "code",
   "execution_count": 2,
   "metadata": {},
   "outputs": [],
   "source": [
    "import numpy as np\n",
    "import sqlite3\n",
    "import pandas as pd\n",
    "from plotnine import *"
   ]
  },
  {
   "cell_type": "markdown",
   "metadata": {},
   "source": [
    "# Classifiers\n",
    "## Data Extraction"
   ]
  },
  {
   "cell_type": "code",
   "execution_count": 4,
   "metadata": {},
   "outputs": [
    {
     "data": {
      "text/html": [
       "<div>\n",
       "<style scoped>\n",
       "    .dataframe tbody tr th:only-of-type {\n",
       "        vertical-align: middle;\n",
       "    }\n",
       "\n",
       "    .dataframe tbody tr th {\n",
       "        vertical-align: top;\n",
       "    }\n",
       "\n",
       "    .dataframe thead th {\n",
       "        text-align: right;\n",
       "    }\n",
       "</style>\n",
       "<table border=\"1\" class=\"dataframe\">\n",
       "  <thead>\n",
       "    <tr style=\"text-align: right;\">\n",
       "      <th></th>\n",
       "      <th>smiles</th>\n",
       "      <th>fingerprint</th>\n",
       "      <th>r_avg_IC50</th>\n",
       "      <th>f_avg_IC50</th>\n",
       "    </tr>\n",
       "  </thead>\n",
       "  <tbody>\n",
       "    <tr>\n",
       "      <th>0</th>\n",
       "      <td>N#Cc1cccc(NC(=O)Nc2cncc(N)c2)c1</td>\n",
       "      <td>0000000000000000000000000000000000000000000000...</td>\n",
       "      <td>NaN</td>\n",
       "      <td>54.272964</td>\n",
       "    </tr>\n",
       "    <tr>\n",
       "      <th>1</th>\n",
       "      <td>N#Cc1cccc(NC(=O)Nc2c[nH]c3ncccc23)c1</td>\n",
       "      <td>0000000000000000000000000000000000000000000000...</td>\n",
       "      <td>NaN</td>\n",
       "      <td>63.554925</td>\n",
       "    </tr>\n",
       "    <tr>\n",
       "      <th>2</th>\n",
       "      <td>N#Cc1cccc(NC(=O)Cc2cncc3ccccc23)c1</td>\n",
       "      <td>0000000000000000000000000000000000000000010000...</td>\n",
       "      <td>14.641091</td>\n",
       "      <td>26.680129</td>\n",
       "    </tr>\n",
       "    <tr>\n",
       "      <th>3</th>\n",
       "      <td>O=C(Cc1cncc2ccccc12)Nc1ccccc1</td>\n",
       "      <td>0000000000000000000000000000000000000000010000...</td>\n",
       "      <td>45.077469</td>\n",
       "      <td>57.469670</td>\n",
       "    </tr>\n",
       "    <tr>\n",
       "      <th>4</th>\n",
       "      <td>N#Cc1cc(Cl)cc(NC(=O)Nc2cccnc2)c1</td>\n",
       "      <td>0000000000000000000000000000000000000000000000...</td>\n",
       "      <td>NaN</td>\n",
       "      <td>99.010000</td>\n",
       "    </tr>\n",
       "    <tr>\n",
       "      <th>...</th>\n",
       "      <td>...</td>\n",
       "      <td>...</td>\n",
       "      <td>...</td>\n",
       "      <td>...</td>\n",
       "    </tr>\n",
       "    <tr>\n",
       "      <th>2430</th>\n",
       "      <td>N#CC1(CS(=O)(=O)N2Cc3ccc(Cl)cc3C3(CCN(c4cncc5c...</td>\n",
       "      <td>0000000000000000000000000000000000000000010000...</td>\n",
       "      <td>NaN</td>\n",
       "      <td>7.793945</td>\n",
       "    </tr>\n",
       "    <tr>\n",
       "      <th>2431</th>\n",
       "      <td>CNC(=O)CN1CC2(CCN(c3cncc4cccc(Cl)c34)C2=O)c2cc...</td>\n",
       "      <td>0000000000000000000000000000000000000000010000...</td>\n",
       "      <td>NaN</td>\n",
       "      <td>1.674005</td>\n",
       "    </tr>\n",
       "    <tr>\n",
       "      <th>2432</th>\n",
       "      <td>Cc1cnn(C)c1C(=O)N1Cc2ccc(Cl)cc2C2(CCN(c3cncc4c...</td>\n",
       "      <td>0000000000000000000000000000000000000000010100...</td>\n",
       "      <td>NaN</td>\n",
       "      <td>0.682988</td>\n",
       "    </tr>\n",
       "    <tr>\n",
       "      <th>2433</th>\n",
       "      <td>Cc1cc(C(=O)N2Cc3ccc(Cl)cc3C3(CCN(c4cncc5ccccc4...</td>\n",
       "      <td>0000000000000000000000000000000000000000010000...</td>\n",
       "      <td>NaN</td>\n",
       "      <td>0.463982</td>\n",
       "    </tr>\n",
       "    <tr>\n",
       "      <th>2434</th>\n",
       "      <td>CCn1nccc1C(=O)N1Cc2ccc(Cl)cc2C2(CCN(c3cncc4ccc...</td>\n",
       "      <td>0000000000000000000000000000000000100000010100...</td>\n",
       "      <td>NaN</td>\n",
       "      <td>0.297012</td>\n",
       "    </tr>\n",
       "  </tbody>\n",
       "</table>\n",
       "<p>2435 rows × 4 columns</p>\n",
       "</div>"
      ],
      "text/plain": [
       "                                                 smiles  \\\n",
       "0                       N#Cc1cccc(NC(=O)Nc2cncc(N)c2)c1   \n",
       "1                  N#Cc1cccc(NC(=O)Nc2c[nH]c3ncccc23)c1   \n",
       "2                    N#Cc1cccc(NC(=O)Cc2cncc3ccccc23)c1   \n",
       "3                         O=C(Cc1cncc2ccccc12)Nc1ccccc1   \n",
       "4                      N#Cc1cc(Cl)cc(NC(=O)Nc2cccnc2)c1   \n",
       "...                                                 ...   \n",
       "2430  N#CC1(CS(=O)(=O)N2Cc3ccc(Cl)cc3C3(CCN(c4cncc5c...   \n",
       "2431  CNC(=O)CN1CC2(CCN(c3cncc4cccc(Cl)c34)C2=O)c2cc...   \n",
       "2432  Cc1cnn(C)c1C(=O)N1Cc2ccc(Cl)cc2C2(CCN(c3cncc4c...   \n",
       "2433  Cc1cc(C(=O)N2Cc3ccc(Cl)cc3C3(CCN(c4cncc5ccccc4...   \n",
       "2434  CCn1nccc1C(=O)N1Cc2ccc(Cl)cc2C2(CCN(c3cncc4ccc...   \n",
       "\n",
       "                                            fingerprint  r_avg_IC50  \\\n",
       "0     0000000000000000000000000000000000000000000000...         NaN   \n",
       "1     0000000000000000000000000000000000000000000000...         NaN   \n",
       "2     0000000000000000000000000000000000000000010000...   14.641091   \n",
       "3     0000000000000000000000000000000000000000010000...   45.077469   \n",
       "4     0000000000000000000000000000000000000000000000...         NaN   \n",
       "...                                                 ...         ...   \n",
       "2430  0000000000000000000000000000000000000000010000...         NaN   \n",
       "2431  0000000000000000000000000000000000000000010000...         NaN   \n",
       "2432  0000000000000000000000000000000000000000010100...         NaN   \n",
       "2433  0000000000000000000000000000000000000000010000...         NaN   \n",
       "2434  0000000000000000000000000000000000100000010100...         NaN   \n",
       "\n",
       "      f_avg_IC50  \n",
       "0      54.272964  \n",
       "1      63.554925  \n",
       "2      26.680129  \n",
       "3      57.469670  \n",
       "4      99.010000  \n",
       "...          ...  \n",
       "2430    7.793945  \n",
       "2431    1.674005  \n",
       "2432    0.682988  \n",
       "2433    0.463982  \n",
       "2434    0.297012  \n",
       "\n",
       "[2435 rows x 4 columns]"
      ]
     },
     "execution_count": 4,
     "metadata": {},
     "output_type": "execute_result"
    }
   ],
   "source": [
    "conn = sqlite3.connect(\"sabs_moonshot.db\")\n",
    "data = pd.read_sql_query(\"\"\"\n",
    "SELECT smiles, fingerprint, r_avg_IC50, f_avg_IC50\n",
    "FROM assays\n",
    "INNER JOIN compounds ON compounds.id = assays.compound_id\n",
    "WHERE assays.r_avg_IC50 != \"\" OR assays.f_avg_IC50 != \"\";\n",
    "\"\"\", conn)\n",
    "pd.to_numeric(data[\"r_avg_IC50\"], errors='coerce')\n",
    "pd.to_numeric(data[\"f_avg_IC50\"], errors='coerce')\n",
    "data[\"r_avg_IC50\"] = data[\"r_avg_IC50\"].replace(\"\", np.NaN)\n",
    "data[\"f_avg_IC50\"] = data[\"f_avg_IC50\"].replace(\"\", np.NaN)\n",
    "conn.close()\n",
    "data"
   ]
  },
  {
   "cell_type": "markdown",
   "metadata": {},
   "source": [
    "Create input and output numpy arrays (X and Y)"
   ]
  },
  {
   "cell_type": "code",
   "execution_count": 41,
   "metadata": {},
   "outputs": [],
   "source": [
    "X = np.array([[int(c) for c in data[\"fingerprint\"].iloc[i]] for i in range(len(data[\"fingerprint\"]))])\n",
    "Y = -np.log10(np.mean(data[[\"r_avg_IC50\", \"f_avg_IC50\"]], axis=1).to_numpy())\n",
    "Y_raw = Y\n",
    "Y = Y > np.median(Y)"
   ]
  },
  {
   "cell_type": "markdown",
   "metadata": {},
   "source": [
    "## Feature Selection\n",
    "### Remove Low Variance Features"
   ]
  },
  {
   "cell_type": "code",
   "execution_count": 42,
   "metadata": {},
   "outputs": [
    {
     "name": "stdout",
     "output_type": "stream",
     "text": [
      "1322 Features Remaining\n"
     ]
    }
   ],
   "source": [
    "from sklearn.feature_selection import VarianceThreshold\n",
    "sel = VarianceThreshold(threshold = 0)\n",
    "X = sel.fit_transform(X)\n",
    "print(f'{X.shape[1]} Features Remaining')"
   ]
  },
  {
   "cell_type": "markdown",
   "metadata": {},
   "source": [
    "### Remove Highly Correlated Features"
   ]
  },
  {
   "cell_type": "code",
   "execution_count": 43,
   "metadata": {},
   "outputs": [
    {
     "name": "stdout",
     "output_type": "stream",
     "text": [
      "986 Features Remaining\n"
     ]
    }
   ],
   "source": [
    "X = pd.DataFrame(X)\n",
    "corr_matrix = X.corr().abs()\n",
    "upper = corr_matrix.where(np.triu(np.ones(corr_matrix.shape), k=1).astype(np.bool))\n",
    "to_drop = [column for column in upper.columns if any(upper[column] > 0.95)]\n",
    "X.drop(to_drop, axis=1, inplace=True)\n",
    "X = X.to_numpy()\n",
    "print(f'{X.shape[1]} Features Remaining')"
   ]
  },
  {
   "cell_type": "markdown",
   "metadata": {},
   "source": [
    "### Split Data into Testing and Training sets"
   ]
  },
  {
   "cell_type": "code",
   "execution_count": 44,
   "metadata": {},
   "outputs": [
    {
     "name": "stdout",
     "output_type": "stream",
     "text": [
      "X_train shape: (318, 986), X_test shape: (106, 986)\n",
      "Y_train shape: (318,), Y_test shape: (106,)\n"
     ]
    }
   ],
   "source": [
    "from sklearn.model_selection import train_test_split\n",
    "X_train, X_test, Y_train, Y_test = train_test_split(X, Y, test_size=0.25, stratify=Y, random_state = 123456)\n",
    "print(f\"X_train shape: {X_train.shape}, X_test shape: {X_test.shape}\")\n",
    "print(f\"Y_train shape: {Y_train.shape}, Y_test shape: {Y_test.shape}\")"
   ]
  },
  {
   "cell_type": "code",
   "execution_count": 46,
   "metadata": {},
   "outputs": [
    {
     "name": "stderr",
     "output_type": "stream",
     "text": [
      "/usr/local/anaconda3.7/lib/python3.7/site-packages/plotnine/stats/stat_bin.py:93: PlotnineWarning: 'stat_bin()' using 'bins = 11'. Pick better value with 'binwidth'.\n",
      "  warn(msg.format(params['bins']), PlotnineWarning)\n"
     ]
    },
    {
     "data": {
      "image/png": "[encoded data removed]",
      "text/plain": [
       "<Figure size 640x480 with 1 Axes>"
      ]
     },
     "metadata": {},
     "output_type": "display_data"
    },
    {
     "data": {
      "text/plain": [
       "<ggplot: (8731386013037)>"
      ]
     },
     "execution_count": 46,
     "metadata": {},
     "output_type": "execute_result"
    }
   ],
   "source": [
    "(\n",
    "    ggplot(pd.DataFrame(X, Y_raw)) +\n",
    "    geom_histogram(aes(x='Y_raw', fill = (Y_raw>np.median(Y_raw)))) +\n",
    "    xlab('Average pIC50') + ylab('Counts') + theme(legend_position=\"none\")\n",
    ")"
   ]
  },
  {
   "cell_type": "markdown",
   "metadata": {},
   "source": [
    "## Classifier Models\n",
    "### Random Forest"
   ]
  },
  {
   "cell_type": "code",
   "execution_count": 47,
   "metadata": {},
   "outputs": [
    {
     "data": {
      "text/plain": [
       "RandomForestClassifier(bootstrap=True, ccp_alpha=0.0, class_weight=None,\n",
       "                       criterion='gini', max_depth=None, max_features='auto',\n",
       "                       max_leaf_nodes=None, max_samples=None,\n",
       "                       min_impurity_decrease=0.0, min_impurity_split=None,\n",
       "                       min_samples_leaf=1, min_samples_split=2,\n",
       "                       min_weight_fraction_leaf=0.0, n_estimators=100,\n",
       "                       n_jobs=None, oob_score=True, random_state=123456,\n",
       "                       verbose=0, warm_start=False)"
      ]
     },
     "execution_count": 47,
     "metadata": {},
     "output_type": "execute_result"
    }
   ],
   "source": [
    "from sklearn.ensemble import RandomForestClassifier\n",
    "rf = RandomForestClassifier(n_estimators = 100, oob_score=True, random_state=123456)\n",
    "rf.fit(X_train, Y_train)"
   ]
  },
  {
   "cell_type": "code",
   "execution_count": 48,
   "metadata": {},
   "outputs": [
    {
     "name": "stdout",
     "output_type": "stream",
     "text": [
      "Out-of-bag score estimate: 0.84\n",
      "Mean accuracy score: 0.849\n"
     ]
    }
   ],
   "source": [
    "from sklearn.metrics import accuracy_score\n",
    "predicted = rf.predict(X_test)\n",
    "accuracy = accuracy_score(Y_test, predicted)\n",
    "\n",
    "print(f'Out-of-bag score estimate: {rf.oob_score_:.3}')\n",
    "print(f'Mean accuracy score: {accuracy:.3}')"
   ]
  },
  {
   "cell_type": "markdown",
   "metadata": {},
   "source": [
    "### MLP Classifier"
   ]
  },
  {
   "cell_type": "code",
   "execution_count": 49,
   "metadata": {},
   "outputs": [
    {
     "data": {
      "text/plain": [
       "MLPClassifier(activation='relu', alpha=1e-05, batch_size='auto', beta_1=0.9,\n",
       "              beta_2=0.999, early_stopping=False, epsilon=1e-08,\n",
       "              hidden_layer_sizes=(10, 5), learning_rate='constant',\n",
       "              learning_rate_init=0.001, max_fun=15000, max_iter=200,\n",
       "              momentum=0.9, n_iter_no_change=10, nesterovs_momentum=True,\n",
       "              power_t=0.5, random_state=1, shuffle=True, solver='lbfgs',\n",
       "              tol=0.0001, validation_fraction=0.1, verbose=False,\n",
       "              warm_start=False)"
      ]
     },
     "execution_count": 49,
     "metadata": {},
     "output_type": "execute_result"
    }
   ],
   "source": [
    "from sklearn.neural_network import MLPClassifier\n",
    "clf = MLPClassifier(solver='lbfgs', alpha=1e-5, hidden_layer_sizes=(10, 5), random_state=1)\n",
    "clf.fit(X_train, Y_train)"
   ]
  },
  {
   "cell_type": "code",
   "execution_count": 50,
   "metadata": {},
   "outputs": [
    {
     "name": "stdout",
     "output_type": "stream",
     "text": [
      "Out-of-bag score estimate: 0.84\n",
      "Mean accuracy score: 0.83\n"
     ]
    }
   ],
   "source": [
    "clf_predicted = clf.predict(X_test)\n",
    "accuracy = accuracy_score(Y_test, clf_predicted)\n",
    "\n",
    "print(f'Out-of-bag score estimate: {rf.oob_score_:.3}')\n",
    "print(f'Mean accuracy score: {accuracy:.3}')"
   ]
  },
  {
   "cell_type": "markdown",
   "metadata": {},
   "source": [
    "# Regressors\n",
    "## Data Extraction"
   ]
  },
  {
   "cell_type": "code",
   "execution_count": 51,
   "metadata": {},
   "outputs": [
    {
     "data": {
      "text/html": [
       "<div>\n",
       "<style scoped>\n",
       "    .dataframe tbody tr th:only-of-type {\n",
       "        vertical-align: middle;\n",
       "    }\n",
       "\n",
       "    .dataframe tbody tr th {\n",
       "        vertical-align: top;\n",
       "    }\n",
       "\n",
       "    .dataframe thead th {\n",
       "        text-align: right;\n",
       "    }\n",
       "</style>\n",
       "<table border=\"1\" class=\"dataframe\">\n",
       "  <thead>\n",
       "    <tr style=\"text-align: right;\">\n",
       "      <th></th>\n",
       "      <th>smiles</th>\n",
       "      <th>fingerprint</th>\n",
       "      <th>r_avg_IC50</th>\n",
       "      <th>f_avg_IC50</th>\n",
       "    </tr>\n",
       "  </thead>\n",
       "  <tbody>\n",
       "    <tr>\n",
       "      <th>2</th>\n",
       "      <td>N#Cc1cccc(NC(=O)Cc2cncc3ccccc23)c1</td>\n",
       "      <td>0000000000000000000000000000000000000000010000...</td>\n",
       "      <td>14.641091</td>\n",
       "      <td>26.680129</td>\n",
       "    </tr>\n",
       "    <tr>\n",
       "      <th>3</th>\n",
       "      <td>O=C(Cc1cncc2ccccc12)Nc1ccccc1</td>\n",
       "      <td>0000000000000000000000000000000000000000010000...</td>\n",
       "      <td>45.077469</td>\n",
       "      <td>57.469670</td>\n",
       "    </tr>\n",
       "    <tr>\n",
       "      <th>5</th>\n",
       "      <td>Cc1c(N)cncc1NC(=O)Cc1cccc(Cl)c1</td>\n",
       "      <td>0000000000000000000000000000000000000000010000...</td>\n",
       "      <td>8.201698</td>\n",
       "      <td>4.222340</td>\n",
       "    </tr>\n",
       "    <tr>\n",
       "      <th>6</th>\n",
       "      <td>Cc1ccncc1NC(=O)Cc1cccc(Cl)c1</td>\n",
       "      <td>0000000000000000000000000000000000000000010000...</td>\n",
       "      <td>13.895165</td>\n",
       "      <td>24.566619</td>\n",
       "    </tr>\n",
       "    <tr>\n",
       "      <th>7</th>\n",
       "      <td>Cc1ccncc1NC(=O)Nc1cccc(Cl)c1</td>\n",
       "      <td>0000000000000000000000000000000000000000000000...</td>\n",
       "      <td>45.689263</td>\n",
       "      <td>64.413611</td>\n",
       "    </tr>\n",
       "    <tr>\n",
       "      <th>...</th>\n",
       "      <td>...</td>\n",
       "      <td>...</td>\n",
       "      <td>...</td>\n",
       "      <td>...</td>\n",
       "    </tr>\n",
       "    <tr>\n",
       "      <th>1616</th>\n",
       "      <td>Cc1ccc(C)c(S(=O)(=O)N2CCN(C(=O)CCl)CC2)c1</td>\n",
       "      <td>0000000000000000000000000000000000000000000000...</td>\n",
       "      <td>1.623369</td>\n",
       "      <td>14.216485</td>\n",
       "    </tr>\n",
       "    <tr>\n",
       "      <th>1637</th>\n",
       "      <td>O=C(Nc1cncc2ccccc12)C1CCOc2cc(Cl)c(Cl)cc21</td>\n",
       "      <td>0000000000000000000000000000000000000000000000...</td>\n",
       "      <td>0.309337</td>\n",
       "      <td>0.205428</td>\n",
       "    </tr>\n",
       "    <tr>\n",
       "      <th>1711</th>\n",
       "      <td>O=C(CCl)N1CCN(Cc2cccc(Cl)c2)CC1</td>\n",
       "      <td>0000000000000000000000000000000000000000000000...</td>\n",
       "      <td>0.545448</td>\n",
       "      <td>2.536267</td>\n",
       "    </tr>\n",
       "    <tr>\n",
       "      <th>1802</th>\n",
       "      <td>O=C(CCl)N1CCN(S(=O)(=O)c2cccc(F)c2)CC1</td>\n",
       "      <td>0000000000000000000000000000000000000000000000...</td>\n",
       "      <td>2.023561</td>\n",
       "      <td>3.666429</td>\n",
       "    </tr>\n",
       "    <tr>\n",
       "      <th>1813</th>\n",
       "      <td>O=C(Nc1cncc2ccccc12)C1CNCc2ccc(Cl)cc21</td>\n",
       "      <td>0000000000000000000000000000000000000000000000...</td>\n",
       "      <td>2.795197</td>\n",
       "      <td>1.953394</td>\n",
       "    </tr>\n",
       "  </tbody>\n",
       "</table>\n",
       "<p>424 rows × 4 columns</p>\n",
       "</div>"
      ],
      "text/plain": [
       "                                          smiles  \\\n",
       "2             N#Cc1cccc(NC(=O)Cc2cncc3ccccc23)c1   \n",
       "3                  O=C(Cc1cncc2ccccc12)Nc1ccccc1   \n",
       "5                Cc1c(N)cncc1NC(=O)Cc1cccc(Cl)c1   \n",
       "6                   Cc1ccncc1NC(=O)Cc1cccc(Cl)c1   \n",
       "7                   Cc1ccncc1NC(=O)Nc1cccc(Cl)c1   \n",
       "...                                          ...   \n",
       "1616   Cc1ccc(C)c(S(=O)(=O)N2CCN(C(=O)CCl)CC2)c1   \n",
       "1637  O=C(Nc1cncc2ccccc12)C1CCOc2cc(Cl)c(Cl)cc21   \n",
       "1711             O=C(CCl)N1CCN(Cc2cccc(Cl)c2)CC1   \n",
       "1802      O=C(CCl)N1CCN(S(=O)(=O)c2cccc(F)c2)CC1   \n",
       "1813      O=C(Nc1cncc2ccccc12)C1CNCc2ccc(Cl)cc21   \n",
       "\n",
       "                                            fingerprint  r_avg_IC50  \\\n",
       "2     0000000000000000000000000000000000000000010000...   14.641091   \n",
       "3     0000000000000000000000000000000000000000010000...   45.077469   \n",
       "5     0000000000000000000000000000000000000000010000...    8.201698   \n",
       "6     0000000000000000000000000000000000000000010000...   13.895165   \n",
       "7     0000000000000000000000000000000000000000000000...   45.689263   \n",
       "...                                                 ...         ...   \n",
       "1616  0000000000000000000000000000000000000000000000...    1.623369   \n",
       "1637  0000000000000000000000000000000000000000000000...    0.309337   \n",
       "1711  0000000000000000000000000000000000000000000000...    0.545448   \n",
       "1802  0000000000000000000000000000000000000000000000...    2.023561   \n",
       "1813  0000000000000000000000000000000000000000000000...    2.795197   \n",
       "\n",
       "      f_avg_IC50  \n",
       "2      26.680129  \n",
       "3      57.469670  \n",
       "5       4.222340  \n",
       "6      24.566619  \n",
       "7      64.413611  \n",
       "...          ...  \n",
       "1616   14.216485  \n",
       "1637    0.205428  \n",
       "1711    2.536267  \n",
       "1802    3.666429  \n",
       "1813    1.953394  \n",
       "\n",
       "[424 rows x 4 columns]"
      ]
     },
     "execution_count": 51,
     "metadata": {},
     "output_type": "execute_result"
    }
   ],
   "source": [
    "conn = sqlite3.connect(\"sabs_moonshot.db\")\n",
    "data = pd.read_sql_query(\"\"\"\n",
    "SELECT smiles, fingerprint, r_avg_IC50, f_avg_IC50\n",
    "FROM assays\n",
    "INNER JOIN compounds ON compounds.id = assays.compound_id\n",
    "WHERE assays.r_avg_IC50 != \"\" OR assays.f_avg_IC50 != \"\";\n",
    "\"\"\", conn)\n",
    "pd.to_numeric(data[\"r_avg_IC50\"], errors='coerce')\n",
    "pd.to_numeric(data[\"f_avg_IC50\"], errors='coerce')\n",
    "data[\"r_avg_IC50\"] = data[\"r_avg_IC50\"].replace(\"\", np.NaN)\n",
    "data[\"f_avg_IC50\"] = data[\"f_avg_IC50\"].replace(\"\", np.NaN)\n",
    "conn.close()\n",
    "data = data[data[\"f_avg_IC50\"] < 99]\n",
    "data = data[data[\"r_avg_IC50\"] < 99]\n",
    "data"
   ]
  },
  {
   "cell_type": "markdown",
   "metadata": {},
   "source": [
    "Create input and output numpy arrays (X and Y)"
   ]
  },
  {
   "cell_type": "code",
   "execution_count": 52,
   "metadata": {},
   "outputs": [],
   "source": [
    "X = np.array([[int(c) for c in data[\"fingerprint\"].iloc[i]] for i in range(len(data[\"fingerprint\"]))])\n",
    "Y = -np.log10(np.mean(data[[\"r_avg_IC50\", \"f_avg_IC50\"]], axis=1).to_numpy())"
   ]
  },
  {
   "cell_type": "markdown",
   "metadata": {},
   "source": [
    "## Feature Selection\n",
    "### Remove Low Variance Features"
   ]
  },
  {
   "cell_type": "code",
   "execution_count": 53,
   "metadata": {},
   "outputs": [
    {
     "name": "stdout",
     "output_type": "stream",
     "text": [
      "1322 Features Remaining\n"
     ]
    }
   ],
   "source": [
    "from sklearn.feature_selection import VarianceThreshold\n",
    "sel = VarianceThreshold(threshold = 0)\n",
    "X = sel.fit_transform(X)\n",
    "print(f'{X.shape[1]} Features Remaining')"
   ]
  },
  {
   "cell_type": "markdown",
   "metadata": {},
   "source": [
    "### Remove Highly Correlated Features"
   ]
  },
  {
   "cell_type": "code",
   "execution_count": 54,
   "metadata": {},
   "outputs": [
    {
     "name": "stdout",
     "output_type": "stream",
     "text": [
      "986 Features Remaining\n"
     ]
    }
   ],
   "source": [
    "X = pd.DataFrame(X)\n",
    "corr_matrix = X.corr().abs()\n",
    "upper = corr_matrix.where(np.triu(np.ones(corr_matrix.shape), k=1).astype(np.bool))\n",
    "to_drop = [column for column in upper.columns if any(upper[column] > 0.95)]\n",
    "X.drop(to_drop, axis=1, inplace=True)\n",
    "X = X.to_numpy()\n",
    "print(f'{X.shape[1]} Features Remaining')"
   ]
  },
  {
   "cell_type": "markdown",
   "metadata": {},
   "source": [
    "### Split data into Test and Training Sets"
   ]
  },
  {
   "cell_type": "code",
   "execution_count": 55,
   "metadata": {},
   "outputs": [
    {
     "name": "stdout",
     "output_type": "stream",
     "text": [
      "X_train shape: (318, 986), X_test shape: (106, 986)\n",
      "Y_train shape: (318,), Y_test shape: (106,)\n"
     ]
    }
   ],
   "source": [
    "from sklearn.model_selection import train_test_split\n",
    "X_train, X_test, Y_train, Y_test = train_test_split(X, Y, test_size=0.25, random_state = 123456)\n",
    "print(f\"X_train shape: {X_train.shape}, X_test shape: {X_test.shape}\")\n",
    "print(f\"Y_train shape: {Y_train.shape}, Y_test shape: {Y_test.shape}\")"
   ]
  },
  {
   "cell_type": "code",
   "execution_count": 56,
   "metadata": {},
   "outputs": [
    {
     "name": "stderr",
     "output_type": "stream",
     "text": [
      "/usr/local/anaconda3.7/lib/python3.7/site-packages/plotnine/stats/stat_bin.py:93: PlotnineWarning: 'stat_bin()' using 'bins = 11'. Pick better value with 'binwidth'.\n",
      "  warn(msg.format(params['bins']), PlotnineWarning)\n"
     ]
    },
    {
     "data": {
      "image/png": "[encoded data removed]",
      "text/plain": [
       "<Figure size 640x480 with 1 Axes>"
      ]
     },
     "metadata": {},
     "output_type": "display_data"
    },
    {
     "data": {
      "text/plain": [
       "<ggplot: (8731387004025)>"
      ]
     },
     "execution_count": 56,
     "metadata": {},
     "output_type": "execute_result"
    }
   ],
   "source": [
    "(\n",
    "    ggplot(pd.DataFrame(X, Y)) +\n",
    "    geom_histogram(aes(x='Y')) +\n",
    "    xlab('Average pIC50') + ylab('Counts')\n",
    ")"
   ]
  },
  {
   "cell_type": "markdown",
   "metadata": {},
   "source": [
    "## Regression Models\n",
    "### Create Random Forest Regressor"
   ]
  },
  {
   "cell_type": "code",
   "execution_count": 57,
   "metadata": {},
   "outputs": [
    {
     "data": {
      "text/plain": [
       "RandomForestRegressor(bootstrap=True, ccp_alpha=0.0, criterion='mse',\n",
       "                      max_depth=None, max_features='auto', max_leaf_nodes=None,\n",
       "                      max_samples=None, min_impurity_decrease=0.0,\n",
       "                      min_impurity_split=None, min_samples_leaf=1,\n",
       "                      min_samples_split=2, min_weight_fraction_leaf=0.0,\n",
       "                      n_estimators=100, n_jobs=None, oob_score=True,\n",
       "                      random_state=123456, verbose=0, warm_start=False)"
      ]
     },
     "execution_count": 57,
     "metadata": {},
     "output_type": "execute_result"
    }
   ],
   "source": [
    "from sklearn.ensemble import RandomForestRegressor\n",
    "rf = RandomForestRegressor(n_estimators = 100, oob_score=True, random_state=123456)\n",
    "rf.fit(X_train, Y_train)"
   ]
  },
  {
   "cell_type": "code",
   "execution_count": 58,
   "metadata": {},
   "outputs": [
    {
     "name": "stdout",
     "output_type": "stream",
     "text": [
      "Out-of-bag R-2 score estimate: 0.504\n",
      "Test data R-2 score: 0.416\n",
      "Test data Spearman correlation: 0.636\n",
      "Test data Pearson correlation: 0.659\n"
     ]
    }
   ],
   "source": [
    "from sklearn.metrics import r2_score\n",
    "from scipy.stats import spearmanr, pearsonr\n",
    "\n",
    "rf_predicted_train = rf.predict(X_train)\n",
    "rf_predicted_test = rf.predict(X_test)\n",
    "test_score = r2_score(Y_test, rf_predicted_test)\n",
    "spearman = spearmanr(Y_test, rf_predicted_test)\n",
    "pearson = pearsonr(Y_test, rf_predicted_test)\n",
    "\n",
    "print(f'Out-of-bag R-2 score estimate: {rf.oob_score_:>5.3}')\n",
    "print(f'Test data R-2 score: {test_score:>5.3}')\n",
    "print(f'Test data Spearman correlation: {spearman[0]:.3}')\n",
    "print(f'Test data Pearson correlation: {pearson[0]:.3}')"
   ]
  },
  {
   "cell_type": "code",
   "execution_count": 67,
   "metadata": {},
   "outputs": [
    {
     "data": {
      "image/png": "[encoded data removed]",
      "text/plain": [
       "<Figure size 640x480 with 1 Axes>"
      ]
     },
     "metadata": {},
     "output_type": "display_data"
    },
    {
     "data": {
      "text/plain": [
       "<ggplot: (8731386288945)>"
      ]
     },
     "execution_count": 67,
     "metadata": {},
     "output_type": "execute_result"
    }
   ],
   "source": [
    "(\n",
    "    ggplot(pd.DataFrame(Y_test, rf_predicted_test)) +\n",
    "    geom_point(aes(x='Y_test', y='rf_predicted_test')) +\n",
    "    xlab('True pIC50') + ylab('Random Forest pIC50 Prediction') +\n",
    "    ggtitle('Model Evaluation on Test Set')\n",
    ")"
   ]
  },
  {
   "cell_type": "code",
   "execution_count": 68,
   "metadata": {},
   "outputs": [
    {
     "data": {
      "image/png": "[encoded data removed]",
      "text/plain": [
       "<Figure size 640x480 with 1 Axes>"
      ]
     },
     "metadata": {},
     "output_type": "display_data"
    },
    {
     "data": {
      "text/plain": [
       "<ggplot: (8731386326509)>"
      ]
     },
     "execution_count": 68,
     "metadata": {},
     "output_type": "execute_result"
    }
   ],
   "source": [
    "(\n",
    "    ggplot(pd.DataFrame(Y_train, rf_predicted_train)) +\n",
    "    geom_point(aes(x='Y_train', y='rf_predicted_train')) +\n",
    "    xlab('True pIC50') + ylab('Random Forest pIC50 Prediction') +\n",
    "    ggtitle('Model Evaluation on Training Set')\n",
    ")"
   ]
  },
  {
   "cell_type": "markdown",
   "metadata": {},
   "source": [
    "# Create MLP Regressor"
   ]
  },
  {
   "cell_type": "code",
   "execution_count": 61,
   "metadata": {},
   "outputs": [
    {
     "data": {
      "text/plain": [
       "MLPRegressor(activation='relu', alpha=0.0001, batch_size='auto', beta_1=0.9,\n",
       "             beta_2=0.999, early_stopping=False, epsilon=1e-08,\n",
       "             hidden_layer_sizes=(10, 5), learning_rate='constant',\n",
       "             learning_rate_init=0.001, max_fun=15000, max_iter=200,\n",
       "             momentum=0.9, n_iter_no_change=10, nesterovs_momentum=True,\n",
       "             power_t=0.5, random_state=1, shuffle=True, solver='lbfgs',\n",
       "             tol=0.0001, validation_fraction=0.1, verbose=False,\n",
       "             warm_start=False)"
      ]
     },
     "execution_count": 61,
     "metadata": {},
     "output_type": "execute_result"
    }
   ],
   "source": [
    "from sklearn.neural_network import MLPRegressor\n",
    "mlp = MLPRegressor(solver='lbfgs', alpha=1e-4, hidden_layer_sizes=(10, 5), random_state=1)\n",
    "mlp.fit(X_train, Y_train)"
   ]
  },
  {
   "cell_type": "code",
   "execution_count": 62,
   "metadata": {},
   "outputs": [
    {
     "name": "stdout",
     "output_type": "stream",
     "text": [
      "Test data R-2 score: 0.384\n",
      "Test data Spearman correlation: 0.638\n",
      "Test data Pearson correlation: 0.671\n"
     ]
    }
   ],
   "source": [
    "from sklearn.metrics import r2_score\n",
    "from scipy.stats import spearmanr, pearsonr\n",
    "\n",
    "mlp_predicted_train = mlp.predict(X_train)\n",
    "mlp_predicted_test = mlp.predict(X_test)\n",
    "test_score = r2_score(Y_test, mlp_predicted_test)\n",
    "spearman = spearmanr(Y_test, mlp_predicted_test)\n",
    "pearson = pearsonr(Y_test, mlp_predicted_test)\n",
    "\n",
    "print(f'Test data R-2 score: {test_score:>5.3}')\n",
    "print(f'Test data Spearman correlation: {spearman[0]:.3}')\n",
    "print(f'Test data Pearson correlation: {pearson[0]:.3}')"
   ]
  },
  {
   "cell_type": "code",
   "execution_count": 63,
   "metadata": {},
   "outputs": [
    {
     "data": {
      "image/png": "[encoded data removed]",
      "text/plain": [
       "<Figure size 640x480 with 1 Axes>"
      ]
     },
     "metadata": {},
     "output_type": "display_data"
    },
    {
     "data": {
      "text/plain": [
       "<ggplot: (8731386423237)>"
      ]
     },
     "execution_count": 63,
     "metadata": {},
     "output_type": "execute_result"
    }
   ],
   "source": [
    "(\n",
    "    ggplot(pd.DataFrame(Y_test, mlp_predicted_test)) +\n",
    "    geom_point(aes(x='Y_test', y='mlp_predicted_test')) +\n",
    "    xlab('True pIC50') + ylab('MLP pIC50 Prediction') +\n",
    "    ggtitle('MLP Model Evaluation on Test Set')\n",
    ")"
   ]
  },
  {
   "cell_type": "code",
   "execution_count": 64,
   "metadata": {},
   "outputs": [
    {
     "data": {
      "image/png": "[encoded data removed]",
      "text/plain": [
       "<Figure size 640x480 with 1 Axes>"
      ]
     },
     "metadata": {},
     "output_type": "display_data"
    },
    {
     "data": {
      "text/plain": [
       "<ggplot: (8731386377025)>"
      ]
     },
     "execution_count": 64,
     "metadata": {},
     "output_type": "execute_result"
    }
   ],
   "source": [
    "(\n",
    "    ggplot(pd.DataFrame(Y_train, mlp_predicted_train)) +\n",
    "    geom_point(aes(x='Y_train', y='mlp_predicted_train')) +\n",
    "    xlab('True pIC50') + ylab('MLP pIC50 Prediction') +\n",
    "    ggtitle('MLP Model Evaluation on Training Set')\n",
    ")"
   ]
  }
 ],
 "metadata": {
  "interpreter": {
   "hash": "37ce5f569002fec7303b2b36d6096f963beffc9d08c085c3b9673cb4e70b2022"
  },
  "kernelspec": {
   "display_name": "Python 3.7.6 64-bit ('base': conda)",
   "language": "python",
   "name": "python3"
  },
  "language_info": {
   "codemirror_mode": {
    "name": "ipython",
    "version": 3
   },
   "file_extension": ".py",
   "mimetype": "text/x-python",
   "name": "python",
   "nbconvert_exporter": "python",
   "pygments_lexer": "ipython3",
   "version": "3.7.6"
  },
  "orig_nbformat": 4
 },
 "nbformat": 4,
 "nbformat_minor": 2
}
